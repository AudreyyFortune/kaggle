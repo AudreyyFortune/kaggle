{
  "nbformat": 4,
  "nbformat_minor": 0,
  "metadata": {
    "colab": {
      "name": "KaggleNetworks.ipynb",
      "provenance": [],
      "collapsed_sections": [],
      "include_colab_link": true
    },
    "kernelspec": {
      "name": "python3",
      "display_name": "Python 3"
    },
    "accelerator": "GPU"
  },
  "cells": [
    {
      "cell_type": "markdown",
      "metadata": {
        "id": "view-in-github",
        "colab_type": "text"
      },
      "source": [
        "<a href=\"https://colab.research.google.com/github/AudreyyFortune/kaggle/blob/main/KaggleNetworks.ipynb\" target=\"_parent\"><img src=\"https://colab.research.google.com/assets/colab-badge.svg\" alt=\"Open In Colab\"/></a>"
      ]
    },
    {
      "cell_type": "markdown",
      "metadata": {
        "id": "ja6xwplHhm2u"
      },
      "source": [
        "# PROJET KAGGLE \n",
        "## OpenVaccine : Prévision de la dégradation de l’ARNm du vaccin contre la COVID-19\n"
      ]
    },
    {
      "cell_type": "markdown",
      "metadata": {
        "id": "yFCtNCaoh1QT"
      },
      "source": [
        "## Modules importation"
      ]
    },
    {
      "cell_type": "code",
      "metadata": {
        "id": "jURw4xb0h0lS"
      },
      "source": [
        "import numpy as np\n",
        "import pandas as pd\n",
        "import seaborn as sns\n",
        "import matplotlib.pyplot as plt\n",
        "\n",
        "#File import\n",
        "from google.colab import files\n",
        "import io\n",
        "\n",
        "#Ski-learn\n",
        "from sklearn.model_selection import StratifiedKFold, GroupKFold\n",
        "\n",
        "#Tensorflow\n",
        "from tensorflow.keras.utils import to_categorical\n",
        "from tensorflow.keras.models import Sequential\n",
        "from tensorflow.keras.layers import Dense\n",
        "from tensorflow.keras.utils import plot_model\n",
        "import tensorflow_addons\n",
        "import tensorflow as tf\n",
        "from tensorflow.keras.callbacks import ModelCheckpoint, EarlyStopping, LearningRateScheduler, ReduceLROnPlateau\n",
        "from tensorflow.keras.layers import Conv1D\n",
        "from tensorflow.keras.layers import Dropout"
      ],
      "execution_count": null,
      "outputs": []
    },
    {
      "cell_type": "code",
      "metadata": {
        "id": "n91_Y4MHhhGh",
        "colab": {
          "base_uri": "https://localhost:8080/",
          "height": 35
        },
        "outputId": "e4ca591f-a419-4885-f6ed-628f76b9c692"
      },
      "source": [
        "#Check if the GPU is found\n",
        "%tensorflow_version 2.x\n",
        "import tensorflow as tf\n",
        "device_name = tf.test.gpu_device_name()\n",
        "if device_name != '/device:GPU:0':\n",
        "  raise SystemError('GPU device not found')\n",
        "print('Found GPU at: {}'.format(device_name))"
      ],
      "execution_count": null,
      "outputs": [
        {
          "output_type": "stream",
          "text": [
            "Found GPU at: /device:GPU:0\n"
          ],
          "name": "stdout"
        }
      ]
    },
    {
      "cell_type": "code",
      "metadata": {
        "id": "fKv5xoKohhJW"
      },
      "source": [
        "#Fix seed for reproductibility\n",
        "np.random.seed(42)\n",
        "tf.random.set_seed(42)"
      ],
      "execution_count": null,
      "outputs": []
    },
    {
      "cell_type": "markdown",
      "metadata": {
        "id": "eQI07c4yiWw3"
      },
      "source": [
        "## File import"
      ]
    },
    {
      "cell_type": "code",
      "metadata": {
        "id": "IWiQZp7WhhM1",
        "colab": {
          "resources": {
            "http://localhost:8080/nbextensions/google.colab/files.js": {
              "data": "Ly8gQ29weXJpZ2h0IDIwMTcgR29vZ2xlIExMQwovLwovLyBMaWNlbnNlZCB1bmRlciB0aGUgQXBhY2hlIExpY2Vuc2UsIFZlcnNpb24gMi4wICh0aGUgIkxpY2Vuc2UiKTsKLy8geW91IG1heSBub3QgdXNlIHRoaXMgZmlsZSBleGNlcHQgaW4gY29tcGxpYW5jZSB3aXRoIHRoZSBMaWNlbnNlLgovLyBZb3UgbWF5IG9idGFpbiBhIGNvcHkgb2YgdGhlIExpY2Vuc2UgYXQKLy8KLy8gICAgICBodHRwOi8vd3d3LmFwYWNoZS5vcmcvbGljZW5zZXMvTElDRU5TRS0yLjAKLy8KLy8gVW5sZXNzIHJlcXVpcmVkIGJ5IGFwcGxpY2FibGUgbGF3IG9yIGFncmVlZCB0byBpbiB3cml0aW5nLCBzb2Z0d2FyZQovLyBkaXN0cmlidXRlZCB1bmRlciB0aGUgTGljZW5zZSBpcyBkaXN0cmlidXRlZCBvbiBhbiAiQVMgSVMiIEJBU0lTLAovLyBXSVRIT1VUIFdBUlJBTlRJRVMgT1IgQ09ORElUSU9OUyBPRiBBTlkgS0lORCwgZWl0aGVyIGV4cHJlc3Mgb3IgaW1wbGllZC4KLy8gU2VlIHRoZSBMaWNlbnNlIGZvciB0aGUgc3BlY2lmaWMgbGFuZ3VhZ2UgZ292ZXJuaW5nIHBlcm1pc3Npb25zIGFuZAovLyBsaW1pdGF0aW9ucyB1bmRlciB0aGUgTGljZW5zZS4KCi8qKgogKiBAZmlsZW92ZXJ2aWV3IEhlbHBlcnMgZm9yIGdvb2dsZS5jb2xhYiBQeXRob24gbW9kdWxlLgogKi8KKGZ1bmN0aW9uKHNjb3BlKSB7CmZ1bmN0aW9uIHNwYW4odGV4dCwgc3R5bGVBdHRyaWJ1dGVzID0ge30pIHsKICBjb25zdCBlbGVtZW50ID0gZG9jdW1lbnQuY3JlYXRlRWxlbWVudCgnc3BhbicpOwogIGVsZW1lbnQudGV4dENvbnRlbnQgPSB0ZXh0OwogIGZvciAoY29uc3Qga2V5IG9mIE9iamVjdC5rZXlzKHN0eWxlQXR0cmlidXRlcykpIHsKICAgIGVsZW1lbnQuc3R5bGVba2V5XSA9IHN0eWxlQXR0cmlidXRlc1trZXldOwogIH0KICByZXR1cm4gZWxlbWVudDsKfQoKLy8gTWF4IG51bWJlciBvZiBieXRlcyB3aGljaCB3aWxsIGJlIHVwbG9hZGVkIGF0IGEgdGltZS4KY29uc3QgTUFYX1BBWUxPQURfU0laRSA9IDEwMCAqIDEwMjQ7CgpmdW5jdGlvbiBfdXBsb2FkRmlsZXMoaW5wdXRJZCwgb3V0cHV0SWQpIHsKICBjb25zdCBzdGVwcyA9IHVwbG9hZEZpbGVzU3RlcChpbnB1dElkLCBvdXRwdXRJZCk7CiAgY29uc3Qgb3V0cHV0RWxlbWVudCA9IGRvY3VtZW50LmdldEVsZW1lbnRCeUlkKG91dHB1dElkKTsKICAvLyBDYWNoZSBzdGVwcyBvbiB0aGUgb3V0cHV0RWxlbWVudCB0byBtYWtlIGl0IGF2YWlsYWJsZSBmb3IgdGhlIG5leHQgY2FsbAogIC8vIHRvIHVwbG9hZEZpbGVzQ29udGludWUgZnJvbSBQeXRob24uCiAgb3V0cHV0RWxlbWVudC5zdGVwcyA9IHN0ZXBzOwoKICByZXR1cm4gX3VwbG9hZEZpbGVzQ29udGludWUob3V0cHV0SWQpOwp9CgovLyBUaGlzIGlzIHJvdWdobHkgYW4gYXN5bmMgZ2VuZXJhdG9yIChub3Qgc3VwcG9ydGVkIGluIHRoZSBicm93c2VyIHlldCksCi8vIHdoZXJlIHRoZXJlIGFyZSBtdWx0aXBsZSBhc3luY2hyb25vdXMgc3RlcHMgYW5kIHRoZSBQeXRob24gc2lkZSBpcyBnb2luZwovLyB0byBwb2xsIGZvciBjb21wbGV0aW9uIG9mIGVhY2ggc3RlcC4KLy8gVGhpcyB1c2VzIGEgUHJvbWlzZSB0byBibG9jayB0aGUgcHl0aG9uIHNpZGUgb24gY29tcGxldGlvbiBvZiBlYWNoIHN0ZXAsCi8vIHRoZW4gcGFzc2VzIHRoZSByZXN1bHQgb2YgdGhlIHByZXZpb3VzIHN0ZXAgYXMgdGhlIGlucHV0IHRvIHRoZSBuZXh0IHN0ZXAuCmZ1bmN0aW9uIF91cGxvYWRGaWxlc0NvbnRpbnVlKG91dHB1dElkKSB7CiAgY29uc3Qgb3V0cHV0RWxlbWVudCA9IGRvY3VtZW50LmdldEVsZW1lbnRCeUlkKG91dHB1dElkKTsKICBjb25zdCBzdGVwcyA9IG91dHB1dEVsZW1lbnQuc3RlcHM7CgogIGNvbnN0IG5leHQgPSBzdGVwcy5uZXh0KG91dHB1dEVsZW1lbnQubGFzdFByb21pc2VWYWx1ZSk7CiAgcmV0dXJuIFByb21pc2UucmVzb2x2ZShuZXh0LnZhbHVlLnByb21pc2UpLnRoZW4oKHZhbHVlKSA9PiB7CiAgICAvLyBDYWNoZSB0aGUgbGFzdCBwcm9taXNlIHZhbHVlIHRvIG1ha2UgaXQgYXZhaWxhYmxlIHRvIHRoZSBuZXh0CiAgICAvLyBzdGVwIG9mIHRoZSBnZW5lcmF0b3IuCiAgICBvdXRwdXRFbGVtZW50Lmxhc3RQcm9taXNlVmFsdWUgPSB2YWx1ZTsKICAgIHJldHVybiBuZXh0LnZhbHVlLnJlc3BvbnNlOwogIH0pOwp9CgovKioKICogR2VuZXJhdG9yIGZ1bmN0aW9uIHdoaWNoIGlzIGNhbGxlZCBiZXR3ZWVuIGVhY2ggYXN5bmMgc3RlcCBvZiB0aGUgdXBsb2FkCiAqIHByb2Nlc3MuCiAqIEBwYXJhbSB7c3RyaW5nfSBpbnB1dElkIEVsZW1lbnQgSUQgb2YgdGhlIGlucHV0IGZpbGUgcGlja2VyIGVsZW1lbnQuCiAqIEBwYXJhbSB7c3RyaW5nfSBvdXRwdXRJZCBFbGVtZW50IElEIG9mIHRoZSBvdXRwdXQgZGlzcGxheS4KICogQHJldHVybiB7IUl0ZXJhYmxlPCFPYmplY3Q+fSBJdGVyYWJsZSBvZiBuZXh0IHN0ZXBzLgogKi8KZnVuY3Rpb24qIHVwbG9hZEZpbGVzU3RlcChpbnB1dElkLCBvdXRwdXRJZCkgewogIGNvbnN0IGlucHV0RWxlbWVudCA9IGRvY3VtZW50LmdldEVsZW1lbnRCeUlkKGlucHV0SWQpOwogIGlucHV0RWxlbWVudC5kaXNhYmxlZCA9IGZhbHNlOwoKICBjb25zdCBvdXRwdXRFbGVtZW50ID0gZG9jdW1lbnQuZ2V0RWxlbWVudEJ5SWQob3V0cHV0SWQpOwogIG91dHB1dEVsZW1lbnQuaW5uZXJIVE1MID0gJyc7CgogIGNvbnN0IHBpY2tlZFByb21pc2UgPSBuZXcgUHJvbWlzZSgocmVzb2x2ZSkgPT4gewogICAgaW5wdXRFbGVtZW50LmFkZEV2ZW50TGlzdGVuZXIoJ2NoYW5nZScsIChlKSA9PiB7CiAgICAgIHJlc29sdmUoZS50YXJnZXQuZmlsZXMpOwogICAgfSk7CiAgfSk7CgogIGNvbnN0IGNhbmNlbCA9IGRvY3VtZW50LmNyZWF0ZUVsZW1lbnQoJ2J1dHRvbicpOwogIGlucHV0RWxlbWVudC5wYXJlbnRFbGVtZW50LmFwcGVuZENoaWxkKGNhbmNlbCk7CiAgY2FuY2VsLnRleHRDb250ZW50ID0gJ0NhbmNlbCB1cGxvYWQnOwogIGNvbnN0IGNhbmNlbFByb21pc2UgPSBuZXcgUHJvbWlzZSgocmVzb2x2ZSkgPT4gewogICAgY2FuY2VsLm9uY2xpY2sgPSAoKSA9PiB7CiAgICAgIHJlc29sdmUobnVsbCk7CiAgICB9OwogIH0pOwoKICAvLyBXYWl0IGZvciB0aGUgdXNlciB0byBwaWNrIHRoZSBmaWxlcy4KICBjb25zdCBmaWxlcyA9IHlpZWxkIHsKICAgIHByb21pc2U6IFByb21pc2UucmFjZShbcGlja2VkUHJvbWlzZSwgY2FuY2VsUHJvbWlzZV0pLAogICAgcmVzcG9uc2U6IHsKICAgICAgYWN0aW9uOiAnc3RhcnRpbmcnLAogICAgfQogIH07CgogIGNhbmNlbC5yZW1vdmUoKTsKCiAgLy8gRGlzYWJsZSB0aGUgaW5wdXQgZWxlbWVudCBzaW5jZSBmdXJ0aGVyIHBpY2tzIGFyZSBub3QgYWxsb3dlZC4KICBpbnB1dEVsZW1lbnQuZGlzYWJsZWQgPSB0cnVlOwoKICBpZiAoIWZpbGVzKSB7CiAgICByZXR1cm4gewogICAgICByZXNwb25zZTogewogICAgICAgIGFjdGlvbjogJ2NvbXBsZXRlJywKICAgICAgfQogICAgfTsKICB9CgogIGZvciAoY29uc3QgZmlsZSBvZiBmaWxlcykgewogICAgY29uc3QgbGkgPSBkb2N1bWVudC5jcmVhdGVFbGVtZW50KCdsaScpOwogICAgbGkuYXBwZW5kKHNwYW4oZmlsZS5uYW1lLCB7Zm9udFdlaWdodDogJ2JvbGQnfSkpOwogICAgbGkuYXBwZW5kKHNwYW4oCiAgICAgICAgYCgke2ZpbGUudHlwZSB8fCAnbi9hJ30pIC0gJHtmaWxlLnNpemV9IGJ5dGVzLCBgICsKICAgICAgICBgbGFzdCBtb2RpZmllZDogJHsKICAgICAgICAgICAgZmlsZS5sYXN0TW9kaWZpZWREYXRlID8gZmlsZS5sYXN0TW9kaWZpZWREYXRlLnRvTG9jYWxlRGF0ZVN0cmluZygpIDoKICAgICAgICAgICAgICAgICAgICAgICAgICAgICAgICAgICAgJ24vYSd9IC0gYCkpOwogICAgY29uc3QgcGVyY2VudCA9IHNwYW4oJzAlIGRvbmUnKTsKICAgIGxpLmFwcGVuZENoaWxkKHBlcmNlbnQpOwoKICAgIG91dHB1dEVsZW1lbnQuYXBwZW5kQ2hpbGQobGkpOwoKICAgIGNvbnN0IGZpbGVEYXRhUHJvbWlzZSA9IG5ldyBQcm9taXNlKChyZXNvbHZlKSA9PiB7CiAgICAgIGNvbnN0IHJlYWRlciA9IG5ldyBGaWxlUmVhZGVyKCk7CiAgICAgIHJlYWRlci5vbmxvYWQgPSAoZSkgPT4gewogICAgICAgIHJlc29sdmUoZS50YXJnZXQucmVzdWx0KTsKICAgICAgfTsKICAgICAgcmVhZGVyLnJlYWRBc0FycmF5QnVmZmVyKGZpbGUpOwogICAgfSk7CiAgICAvLyBXYWl0IGZvciB0aGUgZGF0YSB0byBiZSByZWFkeS4KICAgIGxldCBmaWxlRGF0YSA9IHlpZWxkIHsKICAgICAgcHJvbWlzZTogZmlsZURhdGFQcm9taXNlLAogICAgICByZXNwb25zZTogewogICAgICAgIGFjdGlvbjogJ2NvbnRpbnVlJywKICAgICAgfQogICAgfTsKCiAgICAvLyBVc2UgYSBjaHVua2VkIHNlbmRpbmcgdG8gYXZvaWQgbWVzc2FnZSBzaXplIGxpbWl0cy4gU2VlIGIvNjIxMTU2NjAuCiAgICBsZXQgcG9zaXRpb24gPSAwOwogICAgd2hpbGUgKHBvc2l0aW9uIDwgZmlsZURhdGEuYnl0ZUxlbmd0aCkgewogICAgICBjb25zdCBsZW5ndGggPSBNYXRoLm1pbihmaWxlRGF0YS5ieXRlTGVuZ3RoIC0gcG9zaXRpb24sIE1BWF9QQVlMT0FEX1NJWkUpOwogICAgICBjb25zdCBjaHVuayA9IG5ldyBVaW50OEFycmF5KGZpbGVEYXRhLCBwb3NpdGlvbiwgbGVuZ3RoKTsKICAgICAgcG9zaXRpb24gKz0gbGVuZ3RoOwoKICAgICAgY29uc3QgYmFzZTY0ID0gYnRvYShTdHJpbmcuZnJvbUNoYXJDb2RlLmFwcGx5KG51bGwsIGNodW5rKSk7CiAgICAgIHlpZWxkIHsKICAgICAgICByZXNwb25zZTogewogICAgICAgICAgYWN0aW9uOiAnYXBwZW5kJywKICAgICAgICAgIGZpbGU6IGZpbGUubmFtZSwKICAgICAgICAgIGRhdGE6IGJhc2U2NCwKICAgICAgICB9LAogICAgICB9OwogICAgICBwZXJjZW50LnRleHRDb250ZW50ID0KICAgICAgICAgIGAke01hdGgucm91bmQoKHBvc2l0aW9uIC8gZmlsZURhdGEuYnl0ZUxlbmd0aCkgKiAxMDApfSUgZG9uZWA7CiAgICB9CiAgfQoKICAvLyBBbGwgZG9uZS4KICB5aWVsZCB7CiAgICByZXNwb25zZTogewogICAgICBhY3Rpb246ICdjb21wbGV0ZScsCiAgICB9CiAgfTsKfQoKc2NvcGUuZ29vZ2xlID0gc2NvcGUuZ29vZ2xlIHx8IHt9OwpzY29wZS5nb29nbGUuY29sYWIgPSBzY29wZS5nb29nbGUuY29sYWIgfHwge307CnNjb3BlLmdvb2dsZS5jb2xhYi5fZmlsZXMgPSB7CiAgX3VwbG9hZEZpbGVzLAogIF91cGxvYWRGaWxlc0NvbnRpbnVlLAp9Owp9KShzZWxmKTsK",
              "ok": true,
              "headers": [
                [
                  "content-type",
                  "application/javascript"
                ]
              ],
              "status": 200,
              "status_text": "OK"
            }
          },
          "base_uri": "https://localhost:8080/",
          "height": 75
        },
        "outputId": "073555c1-e6ac-42b9-882b-0a45e009ce4c"
      },
      "source": [
        "#Upload the data files\n",
        "uploaded = files.upload()"
      ],
      "execution_count": null,
      "outputs": [
        {
          "output_type": "display_data",
          "data": {
            "text/html": [
              "\n",
              "     <input type=\"file\" id=\"files-256376a2-d657-485e-ba33-e7b694f3d305\" name=\"files[]\" multiple disabled\n",
              "        style=\"border:none\" />\n",
              "     <output id=\"result-256376a2-d657-485e-ba33-e7b694f3d305\">\n",
              "      Upload widget is only available when the cell has been executed in the\n",
              "      current browser session. Please rerun this cell to enable.\n",
              "      </output>\n",
              "      <script src=\"/nbextensions/google.colab/files.js\"></script> "
            ],
            "text/plain": [
              "<IPython.core.display.HTML object>"
            ]
          },
          "metadata": {
            "tags": []
          }
        },
        {
          "output_type": "stream",
          "text": [
            "Saving sample_submission.csv to sample_submission.csv\n"
          ],
          "name": "stdout"
        }
      ]
    },
    {
      "cell_type": "code",
      "metadata": {
        "id": "i6grCsrVhhRb"
      },
      "source": [
        "train_data = pd.read_json(\"train.json\", lines = True).drop('index' , axis = 1)\n",
        "test_data = pd.read_json(\"test.json\", lines = True).drop('index' , axis = 1)\n",
        "sample_df = pd.read_csv(\"sample_submission.csv\")"
      ],
      "execution_count": null,
      "outputs": []
    },
    {
      "cell_type": "code",
      "metadata": {
        "id": "7uKAdJVDkvBF",
        "colab": {
          "base_uri": "https://localhost:8080/",
          "height": 469
        },
        "outputId": "9357e02b-01e1-45ad-ee1e-e861f4faaa58"
      },
      "source": [
        "train_data.head()"
      ],
      "execution_count": null,
      "outputs": [
        {
          "output_type": "execute_result",
          "data": {
            "text/html": [
              "<div>\n",
              "<style scoped>\n",
              "    .dataframe tbody tr th:only-of-type {\n",
              "        vertical-align: middle;\n",
              "    }\n",
              "\n",
              "    .dataframe tbody tr th {\n",
              "        vertical-align: top;\n",
              "    }\n",
              "\n",
              "    .dataframe thead th {\n",
              "        text-align: right;\n",
              "    }\n",
              "</style>\n",
              "<table border=\"1\" class=\"dataframe\">\n",
              "  <thead>\n",
              "    <tr style=\"text-align: right;\">\n",
              "      <th></th>\n",
              "      <th>id</th>\n",
              "      <th>sequence</th>\n",
              "      <th>structure</th>\n",
              "      <th>predicted_loop_type</th>\n",
              "      <th>signal_to_noise</th>\n",
              "      <th>SN_filter</th>\n",
              "      <th>seq_length</th>\n",
              "      <th>seq_scored</th>\n",
              "      <th>reactivity_error</th>\n",
              "      <th>deg_error_Mg_pH10</th>\n",
              "      <th>deg_error_pH10</th>\n",
              "      <th>deg_error_Mg_50C</th>\n",
              "      <th>deg_error_50C</th>\n",
              "      <th>reactivity</th>\n",
              "      <th>deg_Mg_pH10</th>\n",
              "      <th>deg_pH10</th>\n",
              "      <th>deg_Mg_50C</th>\n",
              "      <th>deg_50C</th>\n",
              "    </tr>\n",
              "  </thead>\n",
              "  <tbody>\n",
              "    <tr>\n",
              "      <th>0</th>\n",
              "      <td>id_001f94081</td>\n",
              "      <td>GGAAAAGCUCUAAUAACAGGAGACUAGGACUACGUAUUUCUAGGUA...</td>\n",
              "      <td>.....((((((.......)))).)).((.....((..((((((......</td>\n",
              "      <td>EEEEESSSSSSHHHHHHHSSSSBSSXSSIIIIISSIISSSSSSHHH...</td>\n",
              "      <td>6.894</td>\n",
              "      <td>1</td>\n",
              "      <td>107</td>\n",
              "      <td>68</td>\n",
              "      <td>[0.1359, 0.20700000000000002, 0.1633, 0.1452, ...</td>\n",
              "      <td>[0.26130000000000003, 0.38420000000000004, 0.1...</td>\n",
              "      <td>[0.2631, 0.28600000000000003, 0.0964, 0.1574, ...</td>\n",
              "      <td>[0.1501, 0.275, 0.0947, 0.18660000000000002, 0...</td>\n",
              "      <td>[0.2167, 0.34750000000000003, 0.188, 0.2124, 0...</td>\n",
              "      <td>[0.3297, 1.5693000000000001, 1.1227, 0.8686, 0...</td>\n",
              "      <td>[0.7556, 2.983, 0.2526, 1.3789, 0.637600000000...</td>\n",
              "      <td>[2.3375, 3.5060000000000002, 0.3008, 1.0108, 0...</td>\n",
              "      <td>[0.35810000000000003, 2.9683, 0.2589, 1.4552, ...</td>\n",
              "      <td>[0.6382, 3.4773, 0.9988, 1.3228, 0.78770000000...</td>\n",
              "    </tr>\n",
              "    <tr>\n",
              "      <th>1</th>\n",
              "      <td>id_0049f53ba</td>\n",
              "      <td>GGAAAAAGCGCGCGCGGUUAGCGCGCGCUUUUGCGCGCGCUGUACC...</td>\n",
              "      <td>.....(((((((((((((((((((((((....)))))))))).)))...</td>\n",
              "      <td>EEEEESSSSSSSSSSSSSSSSSSSSSSSHHHHSSSSSSSSSSBSSS...</td>\n",
              "      <td>0.193</td>\n",
              "      <td>0</td>\n",
              "      <td>107</td>\n",
              "      <td>68</td>\n",
              "      <td>[2.8272, 2.8272, 2.8272, 4.7343, 2.5676, 2.567...</td>\n",
              "      <td>[73705.3985, 73705.3985, 73705.3985, 73705.398...</td>\n",
              "      <td>[10.1986, 9.2418, 5.0933, 5.0933, 5.0933, 5.09...</td>\n",
              "      <td>[16.6174, 13.868, 8.1968, 8.1968, 8.1968, 8.19...</td>\n",
              "      <td>[15.4857, 7.9596, 13.3957, 5.8777, 5.8777, 5.8...</td>\n",
              "      <td>[0.0, 0.0, 0.0, 2.2965, 0.0, 0.0, 0.0, 0.0, 0....</td>\n",
              "      <td>[0.0, 0.0, 0.0, 0.0, 0.0, 0.0, 0.0, 0.0, 0.0, ...</td>\n",
              "      <td>[4.947, 4.4523, 0.0, 0.0, 0.0, 0.0, 0.0, 0.0, ...</td>\n",
              "      <td>[4.8511, 4.0426, 0.0, 0.0, 0.0, 0.0, 0.0, 0.0,...</td>\n",
              "      <td>[7.6692, 0.0, 10.9561, 0.0, 0.0, 0.0, 0.0, 0.0...</td>\n",
              "    </tr>\n",
              "    <tr>\n",
              "      <th>2</th>\n",
              "      <td>id_006f36f57</td>\n",
              "      <td>GGAAAGUGCUCAGAUAAGCUAAGCUCGAAUAGCAAUCGAAUAGAAU...</td>\n",
              "      <td>.....((((.((.....((((.(((.....)))..((((......)...</td>\n",
              "      <td>EEEEESSSSISSIIIIISSSSMSSSHHHHHSSSMMSSSSHHHHHHS...</td>\n",
              "      <td>8.800</td>\n",
              "      <td>1</td>\n",
              "      <td>107</td>\n",
              "      <td>68</td>\n",
              "      <td>[0.0931, 0.13290000000000002, 0.11280000000000...</td>\n",
              "      <td>[0.1365, 0.2237, 0.1812, 0.1333, 0.1148, 0.160...</td>\n",
              "      <td>[0.17020000000000002, 0.178, 0.111, 0.091, 0.0...</td>\n",
              "      <td>[0.1033, 0.1464, 0.1126, 0.09620000000000001, ...</td>\n",
              "      <td>[0.14980000000000002, 0.1761, 0.1517, 0.116700...</td>\n",
              "      <td>[0.44820000000000004, 1.4822, 1.1819, 0.743400...</td>\n",
              "      <td>[0.2504, 1.4021, 0.9804, 0.49670000000000003, ...</td>\n",
              "      <td>[2.243, 2.9361, 1.0553, 0.721, 0.6396000000000...</td>\n",
              "      <td>[0.5163, 1.6823000000000001, 1.0426, 0.7902, 0...</td>\n",
              "      <td>[0.9501000000000001, 1.7974999999999999, 1.499...</td>\n",
              "    </tr>\n",
              "    <tr>\n",
              "      <th>3</th>\n",
              "      <td>id_0082d463b</td>\n",
              "      <td>GGAAAAGCGCGCGCGCGCGCGCGAAAAAGCGCGCGCGCGCGCGCGC...</td>\n",
              "      <td>......((((((((((((((((......))))))))))))))))((...</td>\n",
              "      <td>EEEEEESSSSSSSSSSSSSSSSHHHHHHSSSSSSSSSSSSSSSSSS...</td>\n",
              "      <td>0.104</td>\n",
              "      <td>0</td>\n",
              "      <td>107</td>\n",
              "      <td>68</td>\n",
              "      <td>[3.5229, 6.0748, 3.0374, 3.0374, 3.0374, 3.037...</td>\n",
              "      <td>[73705.3985, 73705.3985, 73705.3985, 73705.398...</td>\n",
              "      <td>[11.8007, 12.7566, 5.7733, 5.7733, 5.7733, 5.7...</td>\n",
              "      <td>[121286.7181, 121286.7182, 121286.7181, 121286...</td>\n",
              "      <td>[15.3995, 8.1124, 7.7824, 7.7824, 7.7824, 7.78...</td>\n",
              "      <td>[0.0, 2.2399, 0.0, 0.0, 0.0, 0.0, 0.0, 0.0, 0....</td>\n",
              "      <td>[0.0, -0.5083, 0.0, 0.0, 0.0, 0.0, 0.0, 0.0, 0...</td>\n",
              "      <td>[3.4248, 6.8128, 0.0, 0.0, 0.0, 0.0, 0.0, 0.0,...</td>\n",
              "      <td>[0.0, -0.8365, 0.0, 0.0, 0.0, 0.0, 0.0, 0.0, 0...</td>\n",
              "      <td>[7.6692, -1.3223, 0.0, 0.0, 0.0, 0.0, 0.0, 0.0...</td>\n",
              "    </tr>\n",
              "    <tr>\n",
              "      <th>4</th>\n",
              "      <td>id_0087940f4</td>\n",
              "      <td>GGAAAAUAUAUAAUAUAUUAUAUAAAUAUAUUAUAGAAGUAUAAUA...</td>\n",
              "      <td>.....(((((((.((((((((((((.(((((((((....)))))))...</td>\n",
              "      <td>EEEEESSSSSSSBSSSSSSSSSSSSBSSSSSSSSSHHHHSSSSSSS...</td>\n",
              "      <td>0.423</td>\n",
              "      <td>0</td>\n",
              "      <td>107</td>\n",
              "      <td>68</td>\n",
              "      <td>[1.665, 2.1728, 2.0041, 1.2405, 0.620200000000...</td>\n",
              "      <td>[4.2139, 3.9637000000000002, 3.2467, 2.4716, 1...</td>\n",
              "      <td>[3.0942, 3.015, 2.1212, 2.0552, 0.881500000000...</td>\n",
              "      <td>[2.6717, 2.4818, 1.9919, 2.5484999999999998, 1...</td>\n",
              "      <td>[1.3285, 3.6173, 1.3057, 1.3021, 1.1507, 1.150...</td>\n",
              "      <td>[0.8267, 2.6577, 2.8481, 0.40090000000000003, ...</td>\n",
              "      <td>[2.1058, 3.138, 2.5437000000000003, 1.0932, 0....</td>\n",
              "      <td>[4.7366, 4.6243, 1.2068, 1.1538, 0.0, 0.0, 0.7...</td>\n",
              "      <td>[2.2052, 1.7947000000000002, 0.7457, 3.1233, 0...</td>\n",
              "      <td>[0.0, 5.1198, -0.3551, -0.3518, 0.0, 0.0, 0.0,...</td>\n",
              "    </tr>\n",
              "  </tbody>\n",
              "</table>\n",
              "</div>"
            ],
            "text/plain": [
              "             id  ...                                            deg_50C\n",
              "0  id_001f94081  ...  [0.6382, 3.4773, 0.9988, 1.3228, 0.78770000000...\n",
              "1  id_0049f53ba  ...  [7.6692, 0.0, 10.9561, 0.0, 0.0, 0.0, 0.0, 0.0...\n",
              "2  id_006f36f57  ...  [0.9501000000000001, 1.7974999999999999, 1.499...\n",
              "3  id_0082d463b  ...  [7.6692, -1.3223, 0.0, 0.0, 0.0, 0.0, 0.0, 0.0...\n",
              "4  id_0087940f4  ...  [0.0, 5.1198, -0.3551, -0.3518, 0.0, 0.0, 0.0,...\n",
              "\n",
              "[5 rows x 18 columns]"
            ]
          },
          "metadata": {
            "tags": []
          },
          "execution_count": 18
        }
      ]
    },
    {
      "cell_type": "code",
      "metadata": {
        "id": "oSN678JNkvJ-",
        "colab": {
          "base_uri": "https://localhost:8080/",
          "height": 226
        },
        "outputId": "d5da54fb-c6db-45a9-ab3e-cb998ea279a6"
      },
      "source": [
        "test_data.head()"
      ],
      "execution_count": null,
      "outputs": [
        {
          "output_type": "execute_result",
          "data": {
            "text/html": [
              "<div>\n",
              "<style scoped>\n",
              "    .dataframe tbody tr th:only-of-type {\n",
              "        vertical-align: middle;\n",
              "    }\n",
              "\n",
              "    .dataframe tbody tr th {\n",
              "        vertical-align: top;\n",
              "    }\n",
              "\n",
              "    .dataframe thead th {\n",
              "        text-align: right;\n",
              "    }\n",
              "</style>\n",
              "<table border=\"1\" class=\"dataframe\">\n",
              "  <thead>\n",
              "    <tr style=\"text-align: right;\">\n",
              "      <th></th>\n",
              "      <th>id</th>\n",
              "      <th>sequence</th>\n",
              "      <th>structure</th>\n",
              "      <th>predicted_loop_type</th>\n",
              "      <th>seq_length</th>\n",
              "      <th>seq_scored</th>\n",
              "    </tr>\n",
              "  </thead>\n",
              "  <tbody>\n",
              "    <tr>\n",
              "      <th>0</th>\n",
              "      <td>id_00073f8be</td>\n",
              "      <td>GGAAAAGUACGACUUGAGUACGGAAAACGUACCAACUCGAUUAAAA...</td>\n",
              "      <td>......((((((((((.(((((.....))))))))((((((((......</td>\n",
              "      <td>EEEEEESSSSSSSSSSBSSSSSHHHHHSSSSSSSSSSSSSSSSHHH...</td>\n",
              "      <td>107</td>\n",
              "      <td>68</td>\n",
              "    </tr>\n",
              "    <tr>\n",
              "      <th>1</th>\n",
              "      <td>id_000ae4237</td>\n",
              "      <td>GGAAACGGGUUCCGCGGAUUGCUGCUAAUAAGAGUAAUCUCUAAAU...</td>\n",
              "      <td>.....((((..((((((...(((((.....((((....)))).......</td>\n",
              "      <td>EEEEESSSSIISSSSSSIIISSSSSIIIIISSSSHHHHSSSSIIII...</td>\n",
              "      <td>130</td>\n",
              "      <td>91</td>\n",
              "    </tr>\n",
              "    <tr>\n",
              "      <th>2</th>\n",
              "      <td>id_00131c573</td>\n",
              "      <td>GGAAAACAAAACGGCCUGGAAGACGAAGGAAUUCGGCGCGAAGGCC...</td>\n",
              "      <td>...........((.(((.(.(..((..((..((((...))))..))...</td>\n",
              "      <td>EEEEEEEEEEESSISSSISISIISSIISSIISSSSHHHSSSSIISS...</td>\n",
              "      <td>107</td>\n",
              "      <td>68</td>\n",
              "    </tr>\n",
              "    <tr>\n",
              "      <th>3</th>\n",
              "      <td>id_00181fd34</td>\n",
              "      <td>GGAAAGGAUCUCUAUCGAAGGAUAGAGAUCGCUCGCGACGGCACGA...</td>\n",
              "      <td>......((((((((((....))))))))))((((((..((.(((.....</td>\n",
              "      <td>EEEEEESSSSSSSSSSHHHHSSSSSSSSSSSSSSSSIISSISSSHH...</td>\n",
              "      <td>107</td>\n",
              "      <td>68</td>\n",
              "    </tr>\n",
              "    <tr>\n",
              "      <th>4</th>\n",
              "      <td>id_0020473f7</td>\n",
              "      <td>GGAAACCCGCCCGCGCCCGCCCGCGCUGCUGCCGUGCCUCCUCUCC...</td>\n",
              "      <td>.....(((((((((((((((((((((((((((((((((((((((((...</td>\n",
              "      <td>EEEEESSSSSSSSSSSSSSSSSSSSSSSSSSSSSSSSSSSSSSSSS...</td>\n",
              "      <td>130</td>\n",
              "      <td>91</td>\n",
              "    </tr>\n",
              "  </tbody>\n",
              "</table>\n",
              "</div>"
            ],
            "text/plain": [
              "             id  ... seq_scored\n",
              "0  id_00073f8be  ...         68\n",
              "1  id_000ae4237  ...         91\n",
              "2  id_00131c573  ...         68\n",
              "3  id_00181fd34  ...         68\n",
              "4  id_0020473f7  ...         91\n",
              "\n",
              "[5 rows x 6 columns]"
            ]
          },
          "metadata": {
            "tags": []
          },
          "execution_count": 19
        }
      ]
    },
    {
      "cell_type": "code",
      "metadata": {
        "id": "SO4sTyNmkvOG",
        "colab": {
          "base_uri": "https://localhost:8080/",
          "height": 206
        },
        "outputId": "004d6cab-fc67-4573-e053-e4bb0ca31d48"
      },
      "source": [
        "sample_df.head()"
      ],
      "execution_count": null,
      "outputs": [
        {
          "output_type": "execute_result",
          "data": {
            "text/html": [
              "<div>\n",
              "<style scoped>\n",
              "    .dataframe tbody tr th:only-of-type {\n",
              "        vertical-align: middle;\n",
              "    }\n",
              "\n",
              "    .dataframe tbody tr th {\n",
              "        vertical-align: top;\n",
              "    }\n",
              "\n",
              "    .dataframe thead th {\n",
              "        text-align: right;\n",
              "    }\n",
              "</style>\n",
              "<table border=\"1\" class=\"dataframe\">\n",
              "  <thead>\n",
              "    <tr style=\"text-align: right;\">\n",
              "      <th></th>\n",
              "      <th>id_seqpos</th>\n",
              "      <th>reactivity</th>\n",
              "      <th>deg_Mg_pH10</th>\n",
              "      <th>deg_pH10</th>\n",
              "      <th>deg_Mg_50C</th>\n",
              "      <th>deg_50C</th>\n",
              "    </tr>\n",
              "  </thead>\n",
              "  <tbody>\n",
              "    <tr>\n",
              "      <th>0</th>\n",
              "      <td>id_00073f8be_0</td>\n",
              "      <td>0.0</td>\n",
              "      <td>0.0</td>\n",
              "      <td>0.0</td>\n",
              "      <td>0.0</td>\n",
              "      <td>0.0</td>\n",
              "    </tr>\n",
              "    <tr>\n",
              "      <th>1</th>\n",
              "      <td>id_00073f8be_1</td>\n",
              "      <td>0.0</td>\n",
              "      <td>0.0</td>\n",
              "      <td>0.0</td>\n",
              "      <td>0.0</td>\n",
              "      <td>0.0</td>\n",
              "    </tr>\n",
              "    <tr>\n",
              "      <th>2</th>\n",
              "      <td>id_00073f8be_2</td>\n",
              "      <td>0.0</td>\n",
              "      <td>0.0</td>\n",
              "      <td>0.0</td>\n",
              "      <td>0.0</td>\n",
              "      <td>0.0</td>\n",
              "    </tr>\n",
              "    <tr>\n",
              "      <th>3</th>\n",
              "      <td>id_00073f8be_3</td>\n",
              "      <td>0.0</td>\n",
              "      <td>0.0</td>\n",
              "      <td>0.0</td>\n",
              "      <td>0.0</td>\n",
              "      <td>0.0</td>\n",
              "    </tr>\n",
              "    <tr>\n",
              "      <th>4</th>\n",
              "      <td>id_00073f8be_4</td>\n",
              "      <td>0.0</td>\n",
              "      <td>0.0</td>\n",
              "      <td>0.0</td>\n",
              "      <td>0.0</td>\n",
              "      <td>0.0</td>\n",
              "    </tr>\n",
              "  </tbody>\n",
              "</table>\n",
              "</div>"
            ],
            "text/plain": [
              "        id_seqpos  reactivity  deg_Mg_pH10  deg_pH10  deg_Mg_50C  deg_50C\n",
              "0  id_00073f8be_0         0.0          0.0       0.0         0.0      0.0\n",
              "1  id_00073f8be_1         0.0          0.0       0.0         0.0      0.0\n",
              "2  id_00073f8be_2         0.0          0.0       0.0         0.0      0.0\n",
              "3  id_00073f8be_3         0.0          0.0       0.0         0.0      0.0\n",
              "4  id_00073f8be_4         0.0          0.0       0.0         0.0      0.0"
            ]
          },
          "metadata": {
            "tags": []
          },
          "execution_count": 20
        }
      ]
    },
    {
      "cell_type": "code",
      "metadata": {
        "id": "h5uqELLfkvHK",
        "colab": {
          "base_uri": "https://localhost:8080/",
          "height": 146
        },
        "outputId": "04a8cb09-d7bc-44a0-de71-de9cd16b6419"
      },
      "source": [
        "print(\"Train dataset shape:\", train_data.shape)\n",
        "print(\"Filtered train dataset shape:\", train_data.query(\"SN_filter == 1\").shape)\n",
        "print(\"Not filtered train dataset shape:\", train_data.query(\"SN_filter == 0\").shape)\n",
        "print(\"\")\n",
        "print(\"Test dataset shape:\", test_data.shape)\n",
        "print(\"Test 107 bp dataset shape:\",test_data.query(\"seq_length == 107\").shape)\n",
        "print(\"Test 130 bp dataset shape:\",test_data.query(\"seq_length == 130\").shape)"
      ],
      "execution_count": null,
      "outputs": [
        {
          "output_type": "stream",
          "text": [
            "Train dataset shape: (2400, 18)\n",
            "Filtered train dataset shape: (1589, 18)\n",
            "Not filtered train dataset shape: (811, 18)\n",
            "\n",
            "Test dataset shape: (3634, 6)\n",
            "Test 107 bp dataset shape: (629, 6)\n",
            "Test 130 bp dataset shape: (3005, 6)\n"
          ],
          "name": "stdout"
        }
      ]
    },
    {
      "cell_type": "markdown",
      "metadata": {
        "id": "2hIiL_aauy-_"
      },
      "source": [
        "## Creates class weights"
      ]
    },
    {
      "cell_type": "markdown",
      "metadata": {
        "id": "-FwKQYsejDNl"
      },
      "source": [
        "### Create Fasta files with sequences for external analysis"
      ]
    },
    {
      "cell_type": "code",
      "metadata": {
        "id": "hy-N_WwShhUP",
        "colab": {
          "base_uri": "https://localhost:8080/",
          "height": 17
        },
        "outputId": "cf607302-0be1-46ce-e5d4-9d5f351feb17"
      },
      "source": [
        "#Fasta file with filtered train sequence to compute cluster based on sequence identity\n",
        "train_id = train_data.query(\"SN_filter == 1\")[\"id\"]\n",
        "train_seq = train_data.query(\"SN_filter == 1\")[\"sequence\"]\n",
        "\n",
        "with open('train107.fasta', 'w') as f:\n",
        "    for id, seq in zip(train_id, train_seq):\n",
        "        f.write(f'>{id}\\n')\n",
        "        f.write(f'{seq}\\n')\n",
        "\n",
        "files.download('train107.fasta')"
      ],
      "execution_count": null,
      "outputs": [
        {
          "output_type": "display_data",
          "data": {
            "application/javascript": [
              "\n",
              "    async function download(id, filename, size) {\n",
              "      if (!google.colab.kernel.accessAllowed) {\n",
              "        return;\n",
              "      }\n",
              "      const div = document.createElement('div');\n",
              "      const label = document.createElement('label');\n",
              "      label.textContent = `Downloading \"${filename}\": `;\n",
              "      div.appendChild(label);\n",
              "      const progress = document.createElement('progress');\n",
              "      progress.max = size;\n",
              "      div.appendChild(progress);\n",
              "      document.body.appendChild(div);\n",
              "\n",
              "      const buffers = [];\n",
              "      let downloaded = 0;\n",
              "\n",
              "      const channel = await google.colab.kernel.comms.open(id);\n",
              "      // Send a message to notify the kernel that we're ready.\n",
              "      channel.send({})\n",
              "\n",
              "      for await (const message of channel.messages) {\n",
              "        // Send a message to notify the kernel that we're ready.\n",
              "        channel.send({})\n",
              "        if (message.buffers) {\n",
              "          for (const buffer of message.buffers) {\n",
              "            buffers.push(buffer);\n",
              "            downloaded += buffer.byteLength;\n",
              "            progress.value = downloaded;\n",
              "          }\n",
              "        }\n",
              "      }\n",
              "      const blob = new Blob(buffers, {type: 'application/binary'});\n",
              "      const a = document.createElement('a');\n",
              "      a.href = window.URL.createObjectURL(blob);\n",
              "      a.download = filename;\n",
              "      div.appendChild(a);\n",
              "      a.click();\n",
              "      div.remove();\n",
              "    }\n",
              "  "
            ],
            "text/plain": [
              "<IPython.core.display.Javascript object>"
            ]
          },
          "metadata": {
            "tags": []
          }
        },
        {
          "output_type": "display_data",
          "data": {
            "application/javascript": [
              "download(\"download_a667d335-0486-417c-b707-08c52af821c1\", \"train107.fasta\", 193858)"
            ],
            "text/plain": [
              "<IPython.core.display.Javascript object>"
            ]
          },
          "metadata": {
            "tags": []
          }
        }
      ]
    },
    {
      "cell_type": "code",
      "metadata": {
        "id": "i_RvyEyKhhZp",
        "colab": {
          "base_uri": "https://localhost:8080/",
          "height": 17
        },
        "outputId": "a78843bf-bc43-4e95-f4f5-1ec9671ec57e"
      },
      "source": [
        "#Fasta file with 107 pb test sequences to compute clusters based on sequencce identity\n",
        "\n",
        "test_id = test_data.query(\"seq_length == 107\")[\"id\"]\n",
        "test_seq = test_data.query(\"seq_length == 107\")[\"sequence\"]\n",
        "\n",
        "with open('sequencestest107.fasta', 'w') as f:\n",
        "    for id, seq in zip(test_id, test_seq):\n",
        "        f.write(f'>{id}\\n')\n",
        "        f.write(f'{seq}\\n')\n",
        "\n",
        "files.download('sequencestest107.fasta')"
      ],
      "execution_count": null,
      "outputs": [
        {
          "output_type": "display_data",
          "data": {
            "application/javascript": [
              "\n",
              "    async function download(id, filename, size) {\n",
              "      if (!google.colab.kernel.accessAllowed) {\n",
              "        return;\n",
              "      }\n",
              "      const div = document.createElement('div');\n",
              "      const label = document.createElement('label');\n",
              "      label.textContent = `Downloading \"${filename}\": `;\n",
              "      div.appendChild(label);\n",
              "      const progress = document.createElement('progress');\n",
              "      progress.max = size;\n",
              "      div.appendChild(progress);\n",
              "      document.body.appendChild(div);\n",
              "\n",
              "      const buffers = [];\n",
              "      let downloaded = 0;\n",
              "\n",
              "      const channel = await google.colab.kernel.comms.open(id);\n",
              "      // Send a message to notify the kernel that we're ready.\n",
              "      channel.send({})\n",
              "\n",
              "      for await (const message of channel.messages) {\n",
              "        // Send a message to notify the kernel that we're ready.\n",
              "        channel.send({})\n",
              "        if (message.buffers) {\n",
              "          for (const buffer of message.buffers) {\n",
              "            buffers.push(buffer);\n",
              "            downloaded += buffer.byteLength;\n",
              "            progress.value = downloaded;\n",
              "          }\n",
              "        }\n",
              "      }\n",
              "      const blob = new Blob(buffers, {type: 'application/binary'});\n",
              "      const a = document.createElement('a');\n",
              "      a.href = window.URL.createObjectURL(blob);\n",
              "      a.download = filename;\n",
              "      div.appendChild(a);\n",
              "      a.click();\n",
              "      div.remove();\n",
              "    }\n",
              "  "
            ],
            "text/plain": [
              "<IPython.core.display.Javascript object>"
            ]
          },
          "metadata": {
            "tags": []
          }
        },
        {
          "output_type": "display_data",
          "data": {
            "application/javascript": [
              "download(\"download_a73eca63-7429-4c5f-8703-a937ed172616\", \"sequencestest107.fasta\", 76738)"
            ],
            "text/plain": [
              "<IPython.core.display.Javascript object>"
            ]
          },
          "metadata": {
            "tags": []
          }
        }
      ]
    },
    {
      "cell_type": "code",
      "metadata": {
        "id": "DGCfzemqhhc3"
      },
      "source": [
        "#Fasta file with 130 pb test sequences to compute clusters based on sequencce identity\n",
        "\n",
        "test_id = test_data.query(\"seq_length == 130\")[\"id\"]\n",
        "test_seq = test_data.query(\"seq_length == 130\")[\"sequence\"]\n",
        "\n",
        "with open('sequencestest130.fasta', 'w') as f:\n",
        "    for id, seq in zip(test_id, test_seq):\n",
        "        f.write(f'>{id}\\n')\n",
        "        f.write(f'{seq}\\n')\n",
        "\n",
        "files.download('sequencestest130.fasta')"
      ],
      "execution_count": null,
      "outputs": []
    },
    {
      "cell_type": "markdown",
      "metadata": {
        "id": "oY-UlnJyu32G"
      },
      "source": [
        "## Read the file and create class weights"
      ]
    },
    {
      "cell_type": "code",
      "metadata": {
        "id": "zVCfHvJJvIiv",
        "colab": {
          "resources": {
            "http://localhost:8080/nbextensions/google.colab/files.js": {
              "data": "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",
              "ok": true,
              "headers": [
                [
                  "content-type",
                  "application/javascript"
                ]
              ],
              "status": 200,
              "status_text": "OK"
            }
          },
          "base_uri": "https://localhost:8080/",
          "height": 75
        },
        "outputId": "4a2b2145-f441-4ba0-d4e6-6ee12b9d7877"
      },
      "source": [
        "#Upload the data files\n",
        "cluster_file = files.upload()"
      ],
      "execution_count": null,
      "outputs": [
        {
          "output_type": "display_data",
          "data": {
            "text/html": [
              "\n",
              "     <input type=\"file\" id=\"files-5743dece-a425-4c85-bf22-1438f0cc370f\" name=\"files[]\" multiple disabled\n",
              "        style=\"border:none\" />\n",
              "     <output id=\"result-5743dece-a425-4c85-bf22-1438f0cc370f\">\n",
              "      Upload widget is only available when the cell has been executed in the\n",
              "      current browser session. Please rerun this cell to enable.\n",
              "      </output>\n",
              "      <script src=\"/nbextensions/google.colab/files.js\"></script> "
            ],
            "text/plain": [
              "<IPython.core.display.HTML object>"
            ]
          },
          "metadata": {
            "tags": []
          }
        },
        {
          "output_type": "stream",
          "text": [
            "Saving train_cluster.txt to train_cluster.txt\n"
          ],
          "name": "stdout"
        }
      ]
    },
    {
      "cell_type": "code",
      "metadata": {
        "id": "Re9wC92MvIq0",
        "colab": {
          "base_uri": "https://localhost:8080/",
          "height": 55
        },
        "outputId": "42815e82-fadd-4bab-d4c2-a898a8333b00"
      },
      "source": [
        "dico_cluster = {}\n",
        "\n",
        "with open(\"train_cluster.txt\") as f_in:\n",
        "  for line in f_in:\n",
        "    if line.startswith(\">\"):\n",
        "      id_cluster = int(line.split()[1])\n",
        "      dico_cluster[id_cluster] = []\n",
        "    else:\n",
        "      id_seq = line.split()[2][1:-3]\n",
        "      dico_cluster[id_cluster].append(id_seq)\n",
        "\n",
        "print(dico_cluster[0])"
      ],
      "execution_count": null,
      "outputs": [
        {
          "output_type": "stream",
          "text": [
            "['id_006f36f57', 'id_1abf939e4', 'id_1b072023e', 'id_1e833c670', 'id_1e8eae443', 'id_20520d1bd', 'id_26843a332', 'id_3010f9cac', 'id_3f8c56752', 'id_3fa7f0df7', 'id_468a56589', 'id_4818bfd8f', 'id_55a97fe18', 'id_55ecdae7b', 'id_586997629', 'id_5c7ae0123', 'id_62b6318b4', 'id_80082199f', 'id_85c22c0a3', 'id_953f8ceb9', 'id_ab441d871', 'id_b2d813595', 'id_b664e8e0a', 'id_c725ed0e9', 'id_c9c063a89', 'id_d0da7b69a', 'id_f11efec6d', 'id_f1c2edeac', 'id_f2f764461', 'id_fcdf5eda3']\n"
          ],
          "name": "stdout"
        }
      ]
    },
    {
      "cell_type": "code",
      "metadata": {
        "id": "489s94LTvIoa",
        "colab": {
          "base_uri": "https://localhost:8080/",
          "height": 54
        },
        "outputId": "c6914c7c-2d09-4a77-9217-ef6241c406ba"
      },
      "source": [
        "sample_weight = train_data.query(\"SN_filter == 1\")[\"id\"].to_numpy()\n",
        "\n",
        "for cluster_key in dico_cluster:\n",
        "  for id_cluster in dico_cluster[cluster_key]:\n",
        "    sample_weight[sample_weight == id_cluster] = 1 / np.sqrt(len(dico_cluster[cluster_key]))\n",
        "    #sample_weight[sample_weight == id_cluster] = 1 / len(dico_cluster[cluster_key])\n",
        "\n",
        "sample_weight = np.asarray(sample_weight).astype(np.float32)\n",
        "sample_weight"
      ],
      "execution_count": null,
      "outputs": [
        {
          "output_type": "execute_result",
          "data": {
            "text/plain": [
              "array([0.5       , 0.18257418, 0.70710677, ..., 0.57735026, 0.24253562,\n",
              "       1.        ], dtype=float32)"
            ]
          },
          "metadata": {
            "tags": []
          },
          "execution_count": 27
        }
      ]
    },
    {
      "cell_type": "markdown",
      "metadata": {
        "id": "uCtvb3qelld_"
      },
      "source": [
        "## Data encoding"
      ]
    },
    {
      "cell_type": "code",
      "metadata": {
        "id": "5I2JBD6Mhhop"
      },
      "source": [
        "#Select only the high quality data (filtered)\n",
        "train_data = train_data[train_data[\"SN_filter\"] == 1]"
      ],
      "execution_count": null,
      "outputs": []
    },
    {
      "cell_type": "code",
      "metadata": {
        "id": "xs_1qROXhhxo"
      },
      "source": [
        "X_train = train_data[[\"sequence\", \"structure\", \"predicted_loop_type\"]]\n",
        "Y_train = train_data[[\"reactivity\", \"deg_Mg_pH10\", \"deg_pH10\", \"deg_Mg_50C\", \"deg_50C\"]]"
      ],
      "execution_count": null,
      "outputs": []
    },
    {
      "cell_type": "markdown",
      "metadata": {
        "id": "SULrNzBplwAF"
      },
      "source": [
        "### X train one-hot encoding"
      ]
    },
    {
      "cell_type": "code",
      "metadata": {
        "id": "NxHKhbNXlveg"
      },
      "source": [
        "arn2int = {x:i for i, x in enumerate(\"ACGU\")}\n",
        "X_train_seq = X_train[\"sequence\"].apply(lambda seq: [arn2int[x] for x in seq])\n",
        "X_train_seq = np.array(X_train_seq.values.tolist())\n",
        "X_train_seq_cat = to_categorical(X_train_seq, 4)\n",
        "\n",
        "struct2int = {x:i for i, x in enumerate(\".()\")}\n",
        "X_train_struct = X_train[\"structure\"].apply(lambda seq: [struct2int[x] for x in seq])\n",
        "X_train_struct = np.array(X_train_struct.values.tolist())\n",
        "X_train_struct_cat = to_categorical(X_train_struct, 3)\n",
        "\n",
        "loop2int = {x:i for i, x in enumerate(\"BEHIMSX\")}\n",
        "X_train_loop = X_train[\"predicted_loop_type\"].apply(lambda seq: [loop2int[x] for x in seq])\n",
        "X_train_loop = np.array(X_train_loop.values.tolist())\n",
        "X_train_loop_cat = to_categorical(X_train_loop, 7)\n",
        "\n",
        "X_train = np.concatenate((X_train_seq_cat, X_train_struct_cat, X_train_loop_cat), axis=2)"
      ],
      "execution_count": null,
      "outputs": []
    },
    {
      "cell_type": "code",
      "metadata": {
        "id": "0k_8MfUihh3u"
      },
      "source": [
        "#Selection of the 68 first bases\n",
        "X_train = X_train[:,:68,:]"
      ],
      "execution_count": null,
      "outputs": []
    },
    {
      "cell_type": "markdown",
      "metadata": {
        "id": "aAT7O5z3mEbX"
      },
      "source": [
        "### Y train preparation"
      ]
    },
    {
      "cell_type": "code",
      "metadata": {
        "id": "9fNDG1pDhh6_"
      },
      "source": [
        "Y_train_reactivity =  np.array(Y_train[\"reactivity\"].values.tolist())\n",
        "Y_train_deg_Mg_pH10 =  np.array(Y_train[\"deg_Mg_pH10\"].values.tolist())\n",
        "Y_train_deg_Mg_50C =  np.array(Y_train[\"deg_Mg_50C\"].values.tolist())\n",
        "Y_train_deg_pH10 =  np.array(Y_train[\"deg_pH10\"].values.tolist())\n",
        "Y_train_deg_50C =  np.array(Y_train[\"deg_50C\"].values.tolist())\n",
        "\n",
        "Y_train =  np.stack([Y_train_reactivity, Y_train_deg_Mg_pH10, Y_train_deg_Mg_50C, Y_train_deg_pH10, Y_train_deg_50C], axis = 2)"
      ],
      "execution_count": null,
      "outputs": []
    },
    {
      "cell_type": "markdown",
      "metadata": {
        "id": "Po5tVTdPm5tv"
      },
      "source": [
        "## Models evaluation in 10-fold Cross-Validation"
      ]
    },
    {
      "cell_type": "code",
      "metadata": {
        "id": "F-hmgrkboRGi"
      },
      "source": [
        "#Chose the data you want to predict\n",
        "#Y_train =  np.stack([Y_train_reactivity], axis = 2)\n",
        "#Y_train =  np.stack([Y_train_reactivity, Y_train_deg_Mg_pH10, Y_train_deg_Mg_50C], axis = 2)\n",
        "Y_train =  np.stack([Y_train_reactivity, Y_train_deg_Mg_pH10, Y_train_deg_Mg_50C, Y_train_deg_pH10, Y_train_deg_50C], axis = 2)\n",
        "\n",
        "nb = Y_train.shape[2]"
      ],
      "execution_count": null,
      "outputs": []
    },
    {
      "cell_type": "code",
      "metadata": {
        "id": "VnzuBYfZhiBE"
      },
      "source": [
        "#Create the competition evaluation metric : MCRMSE\n",
        "\n",
        "from keras import backend as K\n",
        "\n",
        "def rmse(y_actual, y_pred):\n",
        "    mse = tf.keras.losses.mean_squared_error(y_actual, y_pred)\n",
        "    return K.sqrt(mse)\n",
        "\n",
        "def MCRMSE(y_actual, y_pred, num_scored=nb):\n",
        "    score = 0\n",
        "    for i in range(num_scored):\n",
        "        score += rmse(y_actual[:, :, i], y_pred[:, :, i]) / num_scored\n",
        "    return score"
      ],
      "execution_count": null,
      "outputs": []
    },
    {
      "cell_type": "markdown",
      "metadata": {
        "id": "cYSKjByXozED"
      },
      "source": [
        "### Dense model"
      ]
    },
    {
      "cell_type": "code",
      "metadata": {
        "id": "VcnLZ_9Lhh96",
        "colab": {
          "base_uri": "https://localhost:8080/",
          "height": 421
        },
        "outputId": "f62b19d7-f5d5-4704-8a76-7b9134e857c0"
      },
      "source": [
        "# DENSE\n",
        "\n",
        "kfold = StratifiedKFold(n_splits=10, shuffle=True, random_state=42)\n",
        "\n",
        "CV_pred = np.array([]).reshape(0,68,nb)\n",
        "scores_mse = []\n",
        "scores_mcrmse = []\n",
        "\n",
        "for train, test in kfold.split(np.zeros((X_train.shape[0], 1)), np.zeros((X_train.shape[0], 1))):\n",
        "\n",
        "    model1 = Sequential()\n",
        "    model1.add(Dense(128, input_shape=(68, 14), activation='softmax'))\n",
        "    model1.add(Dense(64, activation=\"softmax\"))\n",
        "    model1.add(Dense(32, activation=\"softmax\"))\n",
        "    model1.add(Dense(nb, activation='linear'))\n",
        "\n",
        "    model1.compile(loss = \"mse\",\n",
        "                   optimizer=\"adam\", \n",
        "                   metrics = [MCRMSE])\n",
        "\n",
        "    callbacks_list = [\n",
        "        EarlyStopping(monitor=\"val_loss\", \n",
        "                      patience=10),\n",
        "        ReduceLROnPlateau(patience=5)]\n",
        "    \n",
        "    plot_model(model1, \"model1.png\", show_shapes=True)\n",
        "    H = model1.fit(x=X_train[train],\n",
        "                  y=Y_train[train],\n",
        "                  batch_size=64,\n",
        "                  epochs=500,\n",
        "                  callbacks=callbacks_list,\n",
        "                  validation_split=0.1,\n",
        "                  shuffle=True,\n",
        "                  verbose=0)\n",
        "  \n",
        "    pred = model1.predict(X_train[test], verbose=0)\n",
        "    CV_pred = np.concatenate((CV_pred, pred), axis=0)\n",
        "    scores = model1.evaluate(X_train[test], Y_train[test], verbose=0)\n",
        "    \n",
        "    print(f\"{model1.metrics_names[0]}: {scores[0]:.4f}\")\n",
        "    scores_mse.append(scores[0])\n",
        "    print(f\"{model1.metrics_names[1]}: {scores[1]:.4f}\")\n",
        "    scores_mcrmse.append(scores[1])\n",
        "\n",
        "\n",
        "print(f\"MSE: {np.mean(scores_mse):.4f} (+/- {np.std(scores_mse):.4f})\")\n",
        "print(f\"MCRMSE: {np.mean(scores_mcrmse):.4f} (+/- {np.std(scores_mcrmse):.4f})\")"
      ],
      "execution_count": null,
      "outputs": [
        {
          "output_type": "stream",
          "text": [
            "loss: 0.2440\n",
            "MCRMSE: 0.4756\n",
            "loss: 0.2400\n",
            "MCRMSE: 0.4723\n",
            "loss: 0.2468\n",
            "MCRMSE: 0.4786\n",
            "loss: 0.2394\n",
            "MCRMSE: 0.4718\n",
            "loss: 0.2345\n",
            "MCRMSE: 0.4659\n",
            "loss: 0.2559\n",
            "MCRMSE: 0.4879\n",
            "loss: 0.2568\n",
            "MCRMSE: 0.4901\n",
            "loss: 0.2500\n",
            "MCRMSE: 0.4834\n",
            "loss: 0.2427\n",
            "MCRMSE: 0.4757\n",
            "loss: 0.2289\n",
            "MCRMSE: 0.4627\n",
            "MSE: 0.2439 (+/- 0.0084)\n",
            "MCRMSE: 0.4764 (+/- 0.0084)\n"
          ],
          "name": "stdout"
        }
      ]
    },
    {
      "cell_type": "markdown",
      "metadata": {
        "id": "vjwJQSIhpJiF"
      },
      "source": [
        "### Conv1D+Dense"
      ]
    },
    {
      "cell_type": "code",
      "metadata": {
        "id": "31V4HDaXhh1p",
        "colab": {
          "base_uri": "https://localhost:8080/",
          "height": 421
        },
        "outputId": "257f53bd-28ab-460c-ce6a-a72522cc0a67"
      },
      "source": [
        "kfold = StratifiedKFold(n_splits=10, shuffle=True, random_state=42)\n",
        "\n",
        "CV_pred = np.array([]).reshape(0,68,nb)\n",
        "scores_mse = []\n",
        "scores_mcrmse = []\n",
        "\n",
        "for train, test in kfold.split(np.zeros((X_train.shape[0], 1)), np.zeros((X_train.shape[0], 1))):\n",
        "\n",
        "    model2 = Sequential()\n",
        "    model2.add(Conv1D(filters=100, kernel_size=1, input_shape = (68, 14), padding=\"same\", activation = \"relu\"))\n",
        "    model2.add(Dropout(0.2))\n",
        "    model2.add(Conv1D(filters=125, kernel_size=3, padding=\"same\", activation = \"relu\"))\n",
        "    model2.add(Dropout(0.2))\n",
        "    model2.add(Conv1D(filters=150, kernel_size=5, padding=\"same\", activation = \"relu\"))\n",
        "    model2.add(Dropout(0.2))\n",
        "    model2.add(Dense(128, activation=\"softmax\"))\n",
        "    model2.add(Dense(64, activation=\"softmax\"))\n",
        "    model2.add(Dense(32, activation=\"softmax\"))\n",
        "    model2.add(Dense(nb, activation=\"linear\"))\n",
        "\n",
        "    model2.compile(loss = \"mse\",\n",
        "                   optimizer=\"adam\", \n",
        "                   metrics = [MCRMSE])\n",
        "\n",
        "    callbacks_list = [\n",
        "        EarlyStopping(monitor=\"val_loss\", \n",
        "                      patience=10),\n",
        "        ReduceLROnPlateau(patience=5)]\n",
        "\n",
        "    plot_model(model2, \"model2.png\", show_shapes=True)\n",
        "    H = model2.fit(x=X_train[train],\n",
        "                  y=Y_train[train],\n",
        "                  batch_size=64,\n",
        "                  epochs=500,\n",
        "                  callbacks=callbacks_list,\n",
        "                  validation_split=0.1,\n",
        "                  shuffle=True,\n",
        "                  verbose=0)\n",
        "  \n",
        "    pred = model2.predict(X_train[test], verbose=0)\n",
        "    CV_pred = np.concatenate((CV_pred, pred), axis=0)\n",
        "    scores = model2.evaluate(X_train[test], Y_train[test], verbose=0)\n",
        "    \n",
        "    print(f\"{model2.metrics_names[0]}: {scores[0]:.4f}\")\n",
        "    scores_mse.append(scores[0])\n",
        "    print(f\"{model2.metrics_names[1]}: {scores[1]:.4f}\")\n",
        "    scores_mcrmse.append(scores[1])\n",
        "\n",
        "\n",
        "print(f\"MSE: {np.mean(scores_mse):.4f} (+/- {np.std(scores_mse):.4f})\")\n",
        "print(f\"MCRMSE: {np.mean(scores_mcrmse):.4f} (+/- {np.std(scores_mcrmse):.4f})\")"
      ],
      "execution_count": null,
      "outputs": [
        {
          "output_type": "stream",
          "text": [
            "loss: 0.2441\n",
            "MCRMSE: 0.4756\n",
            "loss: 0.2401\n",
            "MCRMSE: 0.4723\n",
            "loss: 0.2468\n",
            "MCRMSE: 0.4787\n",
            "loss: 0.2396\n",
            "MCRMSE: 0.4719\n",
            "loss: 0.2345\n",
            "MCRMSE: 0.4659\n",
            "loss: 0.2560\n",
            "MCRMSE: 0.4879\n",
            "loss: 0.2568\n",
            "MCRMSE: 0.4901\n",
            "loss: 0.1020\n",
            "MCRMSE: 0.3066\n",
            "loss: 0.2428\n",
            "MCRMSE: 0.4757\n",
            "loss: 0.2290\n",
            "MCRMSE: 0.4628\n",
            "MSE: 0.2292 (+/- 0.0432)\n",
            "MCRMSE: 0.4588 (+/- 0.0514)\n"
          ],
          "name": "stdout"
        }
      ]
    },
    {
      "cell_type": "markdown",
      "metadata": {
        "id": "QzdM48Hkp15n"
      },
      "source": [
        "### GRU"
      ]
    },
    {
      "cell_type": "code",
      "metadata": {
        "id": "tVRdIoHwhhu-",
        "colab": {
          "base_uri": "https://localhost:8080/",
          "height": 421
        },
        "outputId": "00b4b7c1-6c85-4d7b-de08-8d2a82bd6169"
      },
      "source": [
        "kfold = StratifiedKFold(n_splits=10, shuffle=True, random_state=42)\n",
        "\n",
        "CV_pred = np.array([]).reshape(0,68,nb)\n",
        "scores_mse = []\n",
        "scores_mcrmse = []\n",
        "\n",
        "for train, test in kfold.split(np.zeros((X_train.shape[0], 1)), np.zeros((X_train.shape[0], 1))):\n",
        "\n",
        "    model3 = Sequential()\n",
        "    model3.add(tf.keras.Input(shape = (68, 14)))\n",
        "    model3.add(tf.keras.layers.Bidirectional(tf.keras.layers.GRU(128, dropout=0.2, return_sequences=True)))\n",
        "    model3.add(tf.keras.layers.Bidirectional(tf.keras.layers.GRU(128, dropout=0.2, return_sequences=True)))\n",
        "    model3.add(tf.keras.layers.Bidirectional(tf.keras.layers.GRU(128, dropout=0.2, return_sequences=True)))\n",
        "    model3.add(tf.keras.layers.TimeDistributed(Dense(nb, activation=\"linear\")))\n",
        "\n",
        "    model3.compile(loss = \"mse\",\n",
        "                   optimizer=\"adam\", \n",
        "                   metrics = [MCRMSE])\n",
        "\n",
        "    callbacks_list = [\n",
        "        EarlyStopping(monitor=\"val_loss\", \n",
        "                      patience=10),\n",
        "        ReduceLROnPlateau(patience=5)]\n",
        "    plot_model(model3, \"model3.png\", show_shapes=True)\n",
        "\n",
        "    H = model3.fit(x=X_train[train],\n",
        "                  y=Y_train[train],\n",
        "                  batch_size=64,\n",
        "                  epochs=500,\n",
        "                  callbacks=callbacks_list,\n",
        "                  validation_split=0.1,\n",
        "                  shuffle=True,\n",
        "                  verbose=0)\n",
        "  \n",
        "    pred = model3.predict(X_train[test], verbose=0)\n",
        "    CV_pred = np.concatenate((CV_pred, pred), axis=0)\n",
        "    scores = model3.evaluate(X_train[test], Y_train[test], verbose=0)\n",
        "    \n",
        "    print(f\"{model3.metrics_names[0]}: {scores[0]:.4f}\")\n",
        "    scores_mse.append(scores[0])\n",
        "    print(f\"{model3.metrics_names[1]}: {scores[1]:.4f}\")\n",
        "    scores_mcrmse.append(scores[1])\n",
        "\n",
        "\n",
        "print(f\"MSE: {np.mean(scores_mse):.4f} (+/- {np.std(scores_mse):.4f})\")\n",
        "print(f\"MCRMSE: {np.mean(scores_mcrmse):.4f} (+/- {np.std(scores_mcrmse):.4f})\")"
      ],
      "execution_count": null,
      "outputs": [
        {
          "output_type": "stream",
          "text": [
            "loss: 0.0606\n",
            "MCRMSE: 0.2285\n",
            "loss: 0.0574\n",
            "MCRMSE: 0.2261\n",
            "loss: 0.0618\n",
            "MCRMSE: 0.2315\n",
            "loss: 0.0650\n",
            "MCRMSE: 0.2373\n",
            "loss: 0.0629\n",
            "MCRMSE: 0.2334\n",
            "loss: 0.0609\n",
            "MCRMSE: 0.2280\n",
            "loss: 0.0648\n",
            "MCRMSE: 0.2387\n",
            "loss: 0.0571\n",
            "MCRMSE: 0.2262\n",
            "loss: 0.0555\n",
            "MCRMSE: 0.2214\n",
            "loss: 0.0545\n",
            "MCRMSE: 0.2214\n",
            "MSE: 0.0601 (+/- 0.0035)\n",
            "MCRMSE: 0.2293 (+/- 0.0056)\n"
          ],
          "name": "stdout"
        }
      ]
    },
    {
      "cell_type": "markdown",
      "metadata": {
        "id": "_CmtiQbhp44F"
      },
      "source": [
        "### GRU+Conv1D"
      ]
    },
    {
      "cell_type": "code",
      "metadata": {
        "id": "-bnKHgilhhrq",
        "colab": {
          "base_uri": "https://localhost:8080/",
          "height": 421
        },
        "outputId": "4ac1fcaa-bc4e-4af9-e0ce-a354aba07fc8"
      },
      "source": [
        "kfold = StratifiedKFold(n_splits=10, shuffle=True, random_state=42)\n",
        "\n",
        "CV_pred = np.array([]).reshape(0,68,nb)\n",
        "scores_mse = []\n",
        "scores_mcrmse = []\n",
        "H_save = []\n",
        "\n",
        "for train, test in kfold.split(np.zeros((X_train.shape[0], 1)), np.zeros((X_train.shape[0], 1))):\n",
        "\n",
        "    model4 = Sequential()\n",
        "    model4.add(Conv1D(filters=64, kernel_size=3, input_shape = (68, 14), padding=\"same\", activation = \"relu\"))\n",
        "    model4.add(tf.keras.layers.Bidirectional(tf.keras.layers.GRU(128, dropout=0.2, return_sequences=True)))\n",
        "    model4.add(tf.keras.layers.Bidirectional(tf.keras.layers.GRU(128, dropout=0.2, return_sequences=True)))\n",
        "    model4.add(tf.keras.layers.Bidirectional(tf.keras.layers.GRU(128, dropout=0.2, return_sequences=True)))\n",
        "    model4.add(tf.keras.layers.TimeDistributed(Dense(nb, activation=\"linear\")))\n",
        "\n",
        "    model4.compile(loss = \"mse\",\n",
        "                   optimizer=\"adam\", \n",
        "                   metrics = [MCRMSE])\n",
        "\n",
        "    callbacks_list = [\n",
        "        EarlyStopping(monitor=\"val_loss\", \n",
        "                      patience=10),\n",
        "        ReduceLROnPlateau(patience=5)]\n",
        "\n",
        "    plot_model(model4, \"model4.png\", show_shapes=True)\n",
        "    H = model4.fit(x=X_train[train],\n",
        "                  y=Y_train[train],\n",
        "                  batch_size=64,\n",
        "                  epochs=500,\n",
        "                  callbacks=callbacks_list,\n",
        "                  validation_split=0.1,\n",
        "                  shuffle=True,\n",
        "                  verbose=0)\n",
        "\n",
        "    H_save.append(H)\n",
        "\n",
        "    pred = model4.predict(X_train[test], verbose=0)\n",
        "    CV_pred = np.concatenate((CV_pred, pred), axis=0)\n",
        "    scores = model4.evaluate(X_train[test], Y_train[test], verbose=0)\n",
        "    \n",
        "    print(f\"{model4.metrics_names[0]}: {scores[0]:.4f}\")\n",
        "    scores_mse.append(scores[0])\n",
        "    print(f\"{model4.metrics_names[1]}: {scores[1]:.4f}\")\n",
        "    scores_mcrmse.append(scores[1])\n",
        "\n",
        "\n",
        "print(f\"MSE: {np.mean(scores_mse):.4f} (+/- {np.std(scores_mse):.4f})\")\n",
        "print(f\"MCRMSE: {np.mean(scores_mcrmse):.4f} (+/- {np.std(scores_mcrmse):.4f})\")"
      ],
      "execution_count": null,
      "outputs": [
        {
          "output_type": "stream",
          "text": [
            "loss: 0.0569\n",
            "MCRMSE: 0.2215\n",
            "loss: 0.0556\n",
            "MCRMSE: 0.2217\n",
            "loss: 0.0606\n",
            "MCRMSE: 0.2297\n",
            "loss: 0.0572\n",
            "MCRMSE: 0.2200\n",
            "loss: 0.0577\n",
            "MCRMSE: 0.2209\n",
            "loss: 0.0595\n",
            "MCRMSE: 0.2266\n",
            "loss: 0.0608\n",
            "MCRMSE: 0.2303\n",
            "loss: 0.0564\n",
            "MCRMSE: 0.2247\n",
            "loss: 0.0549\n",
            "MCRMSE: 0.2191\n",
            "loss: 0.0536\n",
            "MCRMSE: 0.2191\n",
            "MSE: 0.0573 (+/- 0.0023)\n",
            "MCRMSE: 0.2234 (+/- 0.0040)\n"
          ],
          "name": "stdout"
        }
      ]
    },
    {
      "cell_type": "markdown",
      "metadata": {
        "id": "sdyPxrK1qjLh"
      },
      "source": [
        "## Evaluation of the best model - GRU + Conv1D"
      ]
    },
    {
      "cell_type": "code",
      "metadata": {
        "id": "m7peoFtahhlf"
      },
      "source": [
        "#Graphicals parameters\n",
        "sns.set(\"notebook\",  style=\"darkgrid\", palette=\"bright\", font_scale = 1.5 , rc = {\"lines.linewidth\": 2.5})\n",
        "c_palette = sns.color_palette(\"bright\", 10)"
      ],
      "execution_count": null,
      "outputs": []
    },
    {
      "cell_type": "markdown",
      "metadata": {
        "id": "cT5D9S0usgBI"
      },
      "source": [
        "### Plot of the CV metrics"
      ]
    },
    {
      "cell_type": "code",
      "metadata": {
        "id": "wiaEN3LMhhix",
        "colab": {
          "base_uri": "https://localhost:8080/",
          "height": 439
        },
        "outputId": "de301f9e-1ebd-4803-fb4e-74efc145dcd4"
      },
      "source": [
        "plt.figure(figsize=(10,7))\n",
        "\n",
        "for H in H_save:\n",
        "  plt.plot(H.history[\"loss\"], color=c_palette[0]);\n",
        "  plt.plot(H.history[\"val_loss\"], color=c_palette[1]);"
      ],
      "execution_count": null,
      "outputs": [
        {
          "output_type": "display_data",
          "data": {
            "image/png": "[encoded data removed]",
            "text/plain": [
              "<Figure size 720x504 with 1 Axes>"
            ]
          },
          "metadata": {
            "tags": []
          }
        }
      ]
    },
    {
      "cell_type": "code",
      "metadata": {
        "id": "4s6w95oHhhgE",
        "colab": {
          "base_uri": "https://localhost:8080/",
          "height": 439
        },
        "outputId": "c21a70ca-49b7-494c-8eb3-f0ecce3474e6"
      },
      "source": [
        "plt.figure(figsize=(10,7))\n",
        "\n",
        "for H in H_save:\n",
        "  plt.plot(H.history[\"MCRMSE\"], color=c_palette[0]);\n",
        "  plt.plot(H.history[\"val_MCRMSE\"], color=c_palette[1]);"
      ],
      "execution_count": null,
      "outputs": [
        {
          "output_type": "display_data",
          "data": {
            "image/png": "[encoded data removed]",
            "text/plain": [
              "<Figure size 720x504 with 1 Axes>"
            ]
          },
          "metadata": {
            "tags": []
          }
        }
      ]
    },
    {
      "cell_type": "markdown",
      "metadata": {
        "id": "QCyuJDDXsrkA"
      },
      "source": [
        "### Plot of the predicted Y values against true Y values"
      ]
    },
    {
      "cell_type": "code",
      "metadata": {
        "id": "LeelZOO1hhXI",
        "colab": {
          "base_uri": "https://localhost:8080/",
          "height": 532
        },
        "outputId": "20865a5c-7902-4928-9dba-7de51c5301de"
      },
      "source": [
        "plt.figure(figsize=(10,7))\n",
        "sns.distplot(Y_train[:,:,0], label=\"Y true\")\n",
        "sns.distplot(CV_pred[:,:,0], label=\"Y Pred\")\n",
        "plt.legend();"
      ],
      "execution_count": null,
      "outputs": [
        {
          "output_type": "stream",
          "text": [
            "/usr/local/lib/python3.6/dist-packages/seaborn/distributions.py:2551: FutureWarning: `distplot` is a deprecated function and will be removed in a future version. Please adapt your code to use either `displot` (a figure-level function with similar flexibility) or `histplot` (an axes-level function for histograms).\n",
            "  warnings.warn(msg, FutureWarning)\n",
            "/usr/local/lib/python3.6/dist-packages/seaborn/distributions.py:2551: FutureWarning: `distplot` is a deprecated function and will be removed in a future version. Please adapt your code to use either `displot` (a figure-level function with similar flexibility) or `histplot` (an axes-level function for histograms).\n",
            "  warnings.warn(msg, FutureWarning)\n"
          ],
          "name": "stderr"
        },
        {
          "output_type": "display_data",
          "data": {
            "image/png": "[encoded data removed]",
            "text/plain": [
              "<Figure size 720x504 with 1 Axes>"
            ]
          },
          "metadata": {
            "tags": []
          }
        }
      ]
    },
    {
      "cell_type": "code",
      "metadata": {
        "id": "VuIN3C9UhhPQ",
        "colab": {
          "base_uri": "https://localhost:8080/",
          "height": 532
        },
        "outputId": "44fc435c-ae4f-418e-988f-0d58149090e4"
      },
      "source": [
        "plt.figure(figsize=(10,7))\n",
        "sns.distplot(Y_train[:,:,1], label=\"Y true\")\n",
        "sns.distplot(CV_pred[:,:,1], label=\"Y Pred\")\n",
        "plt.legend();"
      ],
      "execution_count": null,
      "outputs": [
        {
          "output_type": "stream",
          "text": [
            "/usr/local/lib/python3.6/dist-packages/seaborn/distributions.py:2551: FutureWarning: `distplot` is a deprecated function and will be removed in a future version. Please adapt your code to use either `displot` (a figure-level function with similar flexibility) or `histplot` (an axes-level function for histograms).\n",
            "  warnings.warn(msg, FutureWarning)\n",
            "/usr/local/lib/python3.6/dist-packages/seaborn/distributions.py:2551: FutureWarning: `distplot` is a deprecated function and will be removed in a future version. Please adapt your code to use either `displot` (a figure-level function with similar flexibility) or `histplot` (an axes-level function for histograms).\n",
            "  warnings.warn(msg, FutureWarning)\n"
          ],
          "name": "stderr"
        },
        {
          "output_type": "display_data",
          "data": {
            "image/png": "[encoded data removed]",
            "text/plain": [
              "<Figure size 720x504 with 1 Axes>"
            ]
          },
          "metadata": {
            "tags": []
          }
        }
      ]
    },
    {
      "cell_type": "code",
      "metadata": {
        "id": "1FoTENpOrqVi",
        "colab": {
          "base_uri": "https://localhost:8080/",
          "height": 532
        },
        "outputId": "cd3d47f0-b4b7-4c69-fbd4-510e4bb5dc7c"
      },
      "source": [
        "plt.figure(figsize=(10,7))\n",
        "sns.distplot(Y_train[:,:,2], label=\"Y true\")\n",
        "sns.distplot(CV_pred[:,:,2], label=\"Y Pred\")\n",
        "plt.legend();"
      ],
      "execution_count": null,
      "outputs": [
        {
          "output_type": "stream",
          "text": [
            "/usr/local/lib/python3.6/dist-packages/seaborn/distributions.py:2551: FutureWarning: `distplot` is a deprecated function and will be removed in a future version. Please adapt your code to use either `displot` (a figure-level function with similar flexibility) or `histplot` (an axes-level function for histograms).\n",
            "  warnings.warn(msg, FutureWarning)\n",
            "/usr/local/lib/python3.6/dist-packages/seaborn/distributions.py:2551: FutureWarning: `distplot` is a deprecated function and will be removed in a future version. Please adapt your code to use either `displot` (a figure-level function with similar flexibility) or `histplot` (an axes-level function for histograms).\n",
            "  warnings.warn(msg, FutureWarning)\n"
          ],
          "name": "stderr"
        },
        {
          "output_type": "display_data",
          "data": {
            "image/png": "[encoded data removed]",
            "text/plain": [
              "<Figure size 720x504 with 1 Axes>"
            ]
          },
          "metadata": {
            "tags": []
          }
        }
      ]
    },
    {
      "cell_type": "code",
      "metadata": {
        "id": "9pzLwvLIrqcG",
        "colab": {
          "base_uri": "https://localhost:8080/",
          "height": 532
        },
        "outputId": "f545bd9c-f1fb-4d93-993d-ec21c624aa7c"
      },
      "source": [
        "plt.figure(figsize=(10,7))\n",
        "sns.distplot(Y_train[:,:,3], label=\"Y true\")\n",
        "sns.distplot(CV_pred[:,:,3], label=\"Y Pred\")\n",
        "plt.legend();"
      ],
      "execution_count": null,
      "outputs": [
        {
          "output_type": "stream",
          "text": [
            "/usr/local/lib/python3.6/dist-packages/seaborn/distributions.py:2551: FutureWarning: `distplot` is a deprecated function and will be removed in a future version. Please adapt your code to use either `displot` (a figure-level function with similar flexibility) or `histplot` (an axes-level function for histograms).\n",
            "  warnings.warn(msg, FutureWarning)\n",
            "/usr/local/lib/python3.6/dist-packages/seaborn/distributions.py:2551: FutureWarning: `distplot` is a deprecated function and will be removed in a future version. Please adapt your code to use either `displot` (a figure-level function with similar flexibility) or `histplot` (an axes-level function for histograms).\n",
            "  warnings.warn(msg, FutureWarning)\n"
          ],
          "name": "stderr"
        },
        {
          "output_type": "display_data",
          "data": {
            "image/png": "[encoded data removed]",
            "text/plain": [
              "<Figure size 720x504 with 1 Axes>"
            ]
          },
          "metadata": {
            "tags": []
          }
        }
      ]
    },
    {
      "cell_type": "code",
      "metadata": {
        "id": "TxxWIu-qrqe1",
        "colab": {
          "base_uri": "https://localhost:8080/",
          "height": 532
        },
        "outputId": "607586cb-650e-4201-b54c-d32bbfcf3d15"
      },
      "source": [
        "plt.figure(figsize=(10,7))\n",
        "sns.distplot(Y_train[:,:,4], label=\"Y true\")\n",
        "sns.distplot(CV_pred[:,:,4], label=\"Y Pred\")\n",
        "plt.legend();"
      ],
      "execution_count": null,
      "outputs": [
        {
          "output_type": "stream",
          "text": [
            "/usr/local/lib/python3.6/dist-packages/seaborn/distributions.py:2551: FutureWarning: `distplot` is a deprecated function and will be removed in a future version. Please adapt your code to use either `displot` (a figure-level function with similar flexibility) or `histplot` (an axes-level function for histograms).\n",
            "  warnings.warn(msg, FutureWarning)\n",
            "/usr/local/lib/python3.6/dist-packages/seaborn/distributions.py:2551: FutureWarning: `distplot` is a deprecated function and will be removed in a future version. Please adapt your code to use either `displot` (a figure-level function with similar flexibility) or `histplot` (an axes-level function for histograms).\n",
            "  warnings.warn(msg, FutureWarning)\n"
          ],
          "name": "stderr"
        },
        {
          "output_type": "display_data",
          "data": {
            "image/png": "[encoded data removed]",
            "text/plain": [
              "<Figure size 720x504 with 1 Axes>"
            ]
          },
          "metadata": {
            "tags": []
          }
        }
      ]
    },
    {
      "cell_type": "markdown",
      "metadata": {
        "id": "h6gM_bahr2xK"
      },
      "source": [
        "## Train the best model with all the train data"
      ]
    },
    {
      "cell_type": "code",
      "metadata": {
        "id": "nom7_Kq4rqiP",
        "colab": {
          "base_uri": "https://localhost:8080/",
          "height": 1000
        },
        "outputId": "a5c8f957-695c-4a18-9669-d9855f8fe7e8"
      },
      "source": [
        "model = Sequential()\n",
        "\n",
        "model.add(Conv1D(filters=64, kernel_size=3, input_shape = (68, 14), padding=\"same\", activation = \"relu\"))\n",
        "model.add(tf.keras.layers.Bidirectional(tf.keras.layers.GRU(128, dropout=0.2, return_sequences=True)))\n",
        "model.add(tf.keras.layers.Bidirectional(tf.keras.layers.GRU(128, dropout=0.2, return_sequences=True)))\n",
        "model.add(tf.keras.layers.Bidirectional(tf.keras.layers.GRU(128, dropout=0.2, return_sequences=True)))\n",
        "model.add(tf.keras.layers.TimeDistributed(Dense(5, activation=\"linear\")))\n",
        "\n",
        "model.compile(loss = \"mse\",\n",
        "               optimizer=\"adam\",\n",
        "               metrics = [MCRMSE])\n",
        "\n",
        "print(model.summary())\n",
        "plot_model(model, \"model.png\", show_shapes=True)\n",
        "\n",
        "\n",
        "callbacks_list = [\n",
        "    EarlyStopping(monitor=\"val_loss\", \n",
        "                  patience=10)]\n",
        "\n",
        "H = model.fit(x=X_train,\n",
        "              y=Y_train,\n",
        "              batch_size=64,\n",
        "              epochs=500,\n",
        "              callbacks=callbacks_list,\n",
        "              validation_split=0.1,\n",
        "              #sample_weight = sample_weight,\n",
        "              shuffle=True,\n",
        "              verbose=1)"
      ],
      "execution_count": null,
      "outputs": [
        {
          "output_type": "stream",
          "text": [
            "Model: \"sequential_40\"\n",
            "_________________________________________________________________\n",
            "Layer (type)                 Output Shape              Param #   \n",
            "=================================================================\n",
            "conv1d_40 (Conv1D)           (None, 68, 64)            2752      \n",
            "_________________________________________________________________\n",
            "bidirectional_60 (Bidirectio (None, 68, 256)           148992    \n",
            "_________________________________________________________________\n",
            "bidirectional_61 (Bidirectio (None, 68, 256)           296448    \n",
            "_________________________________________________________________\n",
            "bidirectional_62 (Bidirectio (None, 68, 256)           296448    \n",
            "_________________________________________________________________\n",
            "time_distributed_20 (TimeDis (None, 68, 5)             1285      \n",
            "=================================================================\n",
            "Total params: 745,925\n",
            "Trainable params: 745,925\n",
            "Non-trainable params: 0\n",
            "_________________________________________________________________\n",
            "None\n",
            "Epoch 1/500\n",
            "23/23 [==============================] - 2s 102ms/step - loss: 0.2159 - MCRMSE: 0.4451 - val_loss: 0.1649 - val_MCRMSE: 0.3910\n",
            "Epoch 2/500\n",
            "23/23 [==============================] - 1s 28ms/step - loss: 0.1515 - MCRMSE: 0.3751 - val_loss: 0.1390 - val_MCRMSE: 0.3564\n",
            "Epoch 3/500\n",
            "23/23 [==============================] - 1s 28ms/step - loss: 0.1337 - MCRMSE: 0.3517 - val_loss: 0.1278 - val_MCRMSE: 0.3411\n",
            "Epoch 4/500\n",
            "23/23 [==============================] - 1s 28ms/step - loss: 0.1198 - MCRMSE: 0.3333 - val_loss: 0.1167 - val_MCRMSE: 0.3268\n",
            "Epoch 5/500\n",
            "23/23 [==============================] - 1s 28ms/step - loss: 0.1124 - MCRMSE: 0.3227 - val_loss: 0.1114 - val_MCRMSE: 0.3199\n",
            "Epoch 6/500\n",
            "23/23 [==============================] - 1s 28ms/step - loss: 0.1093 - MCRMSE: 0.3181 - val_loss: 0.1079 - val_MCRMSE: 0.3135\n",
            "Epoch 7/500\n",
            "23/23 [==============================] - 1s 29ms/step - loss: 0.1056 - MCRMSE: 0.3124 - val_loss: 0.1056 - val_MCRMSE: 0.3102\n",
            "Epoch 8/500\n",
            "23/23 [==============================] - 1s 27ms/step - loss: 0.1029 - MCRMSE: 0.3082 - val_loss: 0.1034 - val_MCRMSE: 0.3070\n",
            "Epoch 9/500\n",
            "23/23 [==============================] - 1s 28ms/step - loss: 0.1005 - MCRMSE: 0.3043 - val_loss: 0.1012 - val_MCRMSE: 0.3028\n",
            "Epoch 10/500\n",
            "23/23 [==============================] - 1s 28ms/step - loss: 0.0985 - MCRMSE: 0.3010 - val_loss: 0.1002 - val_MCRMSE: 0.3017\n",
            "Epoch 11/500\n",
            "23/23 [==============================] - 1s 28ms/step - loss: 0.0974 - MCRMSE: 0.2992 - val_loss: 0.0998 - val_MCRMSE: 0.3011\n",
            "Epoch 12/500\n",
            "23/23 [==============================] - 1s 28ms/step - loss: 0.0965 - MCRMSE: 0.2978 - val_loss: 0.0985 - val_MCRMSE: 0.2985\n",
            "Epoch 13/500\n",
            "23/23 [==============================] - 1s 27ms/step - loss: 0.0948 - MCRMSE: 0.2951 - val_loss: 0.0965 - val_MCRMSE: 0.2949\n",
            "Epoch 14/500\n",
            "23/23 [==============================] - 1s 28ms/step - loss: 0.0923 - MCRMSE: 0.2908 - val_loss: 0.0943 - val_MCRMSE: 0.2917\n",
            "Epoch 15/500\n",
            "23/23 [==============================] - 1s 28ms/step - loss: 0.0904 - MCRMSE: 0.2876 - val_loss: 0.0928 - val_MCRMSE: 0.2892\n",
            "Epoch 16/500\n",
            "23/23 [==============================] - 1s 28ms/step - loss: 0.0887 - MCRMSE: 0.2850 - val_loss: 0.0916 - val_MCRMSE: 0.2875\n",
            "Epoch 17/500\n",
            "23/23 [==============================] - 1s 28ms/step - loss: 0.0875 - MCRMSE: 0.2826 - val_loss: 0.0907 - val_MCRMSE: 0.2854\n",
            "Epoch 18/500\n",
            "23/23 [==============================] - 1s 28ms/step - loss: 0.0870 - MCRMSE: 0.2819 - val_loss: 0.0888 - val_MCRMSE: 0.2818\n",
            "Epoch 19/500\n",
            "23/23 [==============================] - 1s 28ms/step - loss: 0.0847 - MCRMSE: 0.2777 - val_loss: 0.0874 - val_MCRMSE: 0.2793\n",
            "Epoch 20/500\n",
            "23/23 [==============================] - 1s 28ms/step - loss: 0.0827 - MCRMSE: 0.2743 - val_loss: 0.0846 - val_MCRMSE: 0.2745\n",
            "Epoch 21/500\n",
            "23/23 [==============================] - 1s 29ms/step - loss: 0.0802 - MCRMSE: 0.2698 - val_loss: 0.0845 - val_MCRMSE: 0.2740\n",
            "Epoch 22/500\n",
            "23/23 [==============================] - 1s 28ms/step - loss: 0.0789 - MCRMSE: 0.2676 - val_loss: 0.0843 - val_MCRMSE: 0.2731\n",
            "Epoch 23/500\n",
            "23/23 [==============================] - 1s 28ms/step - loss: 0.0779 - MCRMSE: 0.2655 - val_loss: 0.0826 - val_MCRMSE: 0.2702\n",
            "Epoch 24/500\n",
            "23/23 [==============================] - 1s 28ms/step - loss: 0.0764 - MCRMSE: 0.2628 - val_loss: 0.0816 - val_MCRMSE: 0.2690\n",
            "Epoch 25/500\n",
            "23/23 [==============================] - 1s 28ms/step - loss: 0.0752 - MCRMSE: 0.2610 - val_loss: 0.0795 - val_MCRMSE: 0.2648\n",
            "Epoch 26/500\n",
            "23/23 [==============================] - 1s 28ms/step - loss: 0.0745 - MCRMSE: 0.2593 - val_loss: 0.0795 - val_MCRMSE: 0.2643\n",
            "Epoch 27/500\n",
            "23/23 [==============================] - 1s 28ms/step - loss: 0.0737 - MCRMSE: 0.2579 - val_loss: 0.0787 - val_MCRMSE: 0.2635\n",
            "Epoch 28/500\n",
            "23/23 [==============================] - 1s 29ms/step - loss: 0.0727 - MCRMSE: 0.2561 - val_loss: 0.0769 - val_MCRMSE: 0.2596\n",
            "Epoch 29/500\n",
            "23/23 [==============================] - 1s 28ms/step - loss: 0.0726 - MCRMSE: 0.2559 - val_loss: 0.0771 - val_MCRMSE: 0.2598\n",
            "Epoch 30/500\n",
            "23/23 [==============================] - 1s 29ms/step - loss: 0.0709 - MCRMSE: 0.2527 - val_loss: 0.0768 - val_MCRMSE: 0.2591\n",
            "Epoch 31/500\n",
            "23/23 [==============================] - 1s 28ms/step - loss: 0.0700 - MCRMSE: 0.2509 - val_loss: 0.0764 - val_MCRMSE: 0.2586\n",
            "Epoch 32/500\n",
            "23/23 [==============================] - 1s 28ms/step - loss: 0.0699 - MCRMSE: 0.2510 - val_loss: 0.0746 - val_MCRMSE: 0.2552\n",
            "Epoch 33/500\n",
            "23/23 [==============================] - 1s 28ms/step - loss: 0.0684 - MCRMSE: 0.2481 - val_loss: 0.0738 - val_MCRMSE: 0.2537\n",
            "Epoch 34/500\n",
            "23/23 [==============================] - 1s 28ms/step - loss: 0.0679 - MCRMSE: 0.2471 - val_loss: 0.0734 - val_MCRMSE: 0.2527\n",
            "Epoch 35/500\n",
            "23/23 [==============================] - 1s 28ms/step - loss: 0.0675 - MCRMSE: 0.2464 - val_loss: 0.0747 - val_MCRMSE: 0.2543\n",
            "Epoch 36/500\n",
            "23/23 [==============================] - 1s 28ms/step - loss: 0.0677 - MCRMSE: 0.2468 - val_loss: 0.0735 - val_MCRMSE: 0.2536\n",
            "Epoch 37/500\n",
            "23/23 [==============================] - 1s 28ms/step - loss: 0.0665 - MCRMSE: 0.2443 - val_loss: 0.0726 - val_MCRMSE: 0.2510\n",
            "Epoch 38/500\n",
            "23/23 [==============================] - 1s 29ms/step - loss: 0.0656 - MCRMSE: 0.2426 - val_loss: 0.0735 - val_MCRMSE: 0.2527\n",
            "Epoch 39/500\n",
            "23/23 [==============================] - 1s 29ms/step - loss: 0.0656 - MCRMSE: 0.2428 - val_loss: 0.0727 - val_MCRMSE: 0.2508\n",
            "Epoch 40/500\n",
            "23/23 [==============================] - 1s 28ms/step - loss: 0.0654 - MCRMSE: 0.2426 - val_loss: 0.0703 - val_MCRMSE: 0.2469\n",
            "Epoch 41/500\n",
            "23/23 [==============================] - 1s 29ms/step - loss: 0.0635 - MCRMSE: 0.2387 - val_loss: 0.0706 - val_MCRMSE: 0.2478\n",
            "Epoch 42/500\n",
            "23/23 [==============================] - 1s 29ms/step - loss: 0.0626 - MCRMSE: 0.2370 - val_loss: 0.0706 - val_MCRMSE: 0.2469\n",
            "Epoch 43/500\n",
            "23/23 [==============================] - 1s 29ms/step - loss: 0.0623 - MCRMSE: 0.2365 - val_loss: 0.0700 - val_MCRMSE: 0.2462\n",
            "Epoch 44/500\n",
            "23/23 [==============================] - 1s 28ms/step - loss: 0.0619 - MCRMSE: 0.2356 - val_loss: 0.0692 - val_MCRMSE: 0.2443\n",
            "Epoch 45/500\n",
            "23/23 [==============================] - 1s 28ms/step - loss: 0.0615 - MCRMSE: 0.2349 - val_loss: 0.0682 - val_MCRMSE: 0.2429\n",
            "Epoch 46/500\n",
            "23/23 [==============================] - 1s 29ms/step - loss: 0.0608 - MCRMSE: 0.2336 - val_loss: 0.0688 - val_MCRMSE: 0.2439\n",
            "Epoch 47/500\n",
            "23/23 [==============================] - 1s 28ms/step - loss: 0.0607 - MCRMSE: 0.2333 - val_loss: 0.0695 - val_MCRMSE: 0.2447\n",
            "Epoch 48/500\n",
            "23/23 [==============================] - 1s 28ms/step - loss: 0.0615 - MCRMSE: 0.2350 - val_loss: 0.0673 - val_MCRMSE: 0.2407\n",
            "Epoch 49/500\n",
            "23/23 [==============================] - 1s 28ms/step - loss: 0.0600 - MCRMSE: 0.2321 - val_loss: 0.0664 - val_MCRMSE: 0.2390\n",
            "Epoch 50/500\n",
            "23/23 [==============================] - 1s 28ms/step - loss: 0.0587 - MCRMSE: 0.2296 - val_loss: 0.0659 - val_MCRMSE: 0.2381\n",
            "Epoch 51/500\n",
            "23/23 [==============================] - 1s 28ms/step - loss: 0.0580 - MCRMSE: 0.2281 - val_loss: 0.0658 - val_MCRMSE: 0.2377\n",
            "Epoch 52/500\n",
            "23/23 [==============================] - 1s 28ms/step - loss: 0.0584 - MCRMSE: 0.2291 - val_loss: 0.0667 - val_MCRMSE: 0.2399\n",
            "Epoch 53/500\n",
            "23/23 [==============================] - 1s 28ms/step - loss: 0.0579 - MCRMSE: 0.2280 - val_loss: 0.0678 - val_MCRMSE: 0.2416\n",
            "Epoch 54/500\n",
            "23/23 [==============================] - 1s 29ms/step - loss: 0.0570 - MCRMSE: 0.2262 - val_loss: 0.0652 - val_MCRMSE: 0.2363\n",
            "Epoch 55/500\n",
            "23/23 [==============================] - 1s 28ms/step - loss: 0.0569 - MCRMSE: 0.2262 - val_loss: 0.0668 - val_MCRMSE: 0.2406\n",
            "Epoch 56/500\n",
            "23/23 [==============================] - 1s 28ms/step - loss: 0.0563 - MCRMSE: 0.2248 - val_loss: 0.0644 - val_MCRMSE: 0.2350\n",
            "Epoch 57/500\n",
            "23/23 [==============================] - 1s 29ms/step - loss: 0.0555 - MCRMSE: 0.2235 - val_loss: 0.0651 - val_MCRMSE: 0.2364\n",
            "Epoch 58/500\n",
            "23/23 [==============================] - 1s 28ms/step - loss: 0.0552 - MCRMSE: 0.2227 - val_loss: 0.0648 - val_MCRMSE: 0.2359\n",
            "Epoch 59/500\n",
            "23/23 [==============================] - 1s 28ms/step - loss: 0.0544 - MCRMSE: 0.2212 - val_loss: 0.0642 - val_MCRMSE: 0.2345\n",
            "Epoch 60/500\n",
            "23/23 [==============================] - 1s 29ms/step - loss: 0.0546 - MCRMSE: 0.2217 - val_loss: 0.0646 - val_MCRMSE: 0.2354\n",
            "Epoch 61/500\n",
            "23/23 [==============================] - 1s 29ms/step - loss: 0.0536 - MCRMSE: 0.2196 - val_loss: 0.0639 - val_MCRMSE: 0.2337\n",
            "Epoch 62/500\n",
            "23/23 [==============================] - 1s 28ms/step - loss: 0.0533 - MCRMSE: 0.2189 - val_loss: 0.0631 - val_MCRMSE: 0.2322\n",
            "Epoch 63/500\n",
            "23/23 [==============================] - 1s 28ms/step - loss: 0.0529 - MCRMSE: 0.2183 - val_loss: 0.0664 - val_MCRMSE: 0.2399\n",
            "Epoch 64/500\n",
            "23/23 [==============================] - 1s 28ms/step - loss: 0.0527 - MCRMSE: 0.2181 - val_loss: 0.0628 - val_MCRMSE: 0.2320\n",
            "Epoch 65/500\n",
            "23/23 [==============================] - 1s 28ms/step - loss: 0.0519 - MCRMSE: 0.2162 - val_loss: 0.0642 - val_MCRMSE: 0.2348\n",
            "Epoch 66/500\n",
            "23/23 [==============================] - 1s 28ms/step - loss: 0.0518 - MCRMSE: 0.2160 - val_loss: 0.0623 - val_MCRMSE: 0.2309\n",
            "Epoch 67/500\n",
            "23/23 [==============================] - 1s 28ms/step - loss: 0.0511 - MCRMSE: 0.2147 - val_loss: 0.0634 - val_MCRMSE: 0.2330\n",
            "Epoch 68/500\n",
            "23/23 [==============================] - 1s 28ms/step - loss: 0.0504 - MCRMSE: 0.2132 - val_loss: 0.0626 - val_MCRMSE: 0.2312\n",
            "Epoch 69/500\n",
            "23/23 [==============================] - 1s 28ms/step - loss: 0.0506 - MCRMSE: 0.2137 - val_loss: 0.0634 - val_MCRMSE: 0.2329\n",
            "Epoch 70/500\n",
            "23/23 [==============================] - 1s 28ms/step - loss: 0.0504 - MCRMSE: 0.2133 - val_loss: 0.0634 - val_MCRMSE: 0.2334\n",
            "Epoch 71/500\n",
            "23/23 [==============================] - 1s 28ms/step - loss: 0.0497 - MCRMSE: 0.2120 - val_loss: 0.0618 - val_MCRMSE: 0.2287\n",
            "Epoch 72/500\n",
            "23/23 [==============================] - 1s 28ms/step - loss: 0.0498 - MCRMSE: 0.2123 - val_loss: 0.0637 - val_MCRMSE: 0.2341\n",
            "Epoch 73/500\n",
            "23/23 [==============================] - 1s 29ms/step - loss: 0.0492 - MCRMSE: 0.2109 - val_loss: 0.0612 - val_MCRMSE: 0.2287\n",
            "Epoch 74/500\n",
            "23/23 [==============================] - 1s 27ms/step - loss: 0.0485 - MCRMSE: 0.2093 - val_loss: 0.0611 - val_MCRMSE: 0.2279\n",
            "Epoch 75/500\n",
            "23/23 [==============================] - 1s 29ms/step - loss: 0.0479 - MCRMSE: 0.2081 - val_loss: 0.0620 - val_MCRMSE: 0.2295\n",
            "Epoch 76/500\n",
            "23/23 [==============================] - 1s 28ms/step - loss: 0.0481 - MCRMSE: 0.2086 - val_loss: 0.0614 - val_MCRMSE: 0.2285\n",
            "Epoch 77/500\n",
            "23/23 [==============================] - 1s 28ms/step - loss: 0.0477 - MCRMSE: 0.2077 - val_loss: 0.0609 - val_MCRMSE: 0.2279\n",
            "Epoch 78/500\n",
            "23/23 [==============================] - 1s 28ms/step - loss: 0.0471 - MCRMSE: 0.2066 - val_loss: 0.0606 - val_MCRMSE: 0.2265\n",
            "Epoch 79/500\n",
            "23/23 [==============================] - 1s 28ms/step - loss: 0.0464 - MCRMSE: 0.2048 - val_loss: 0.0612 - val_MCRMSE: 0.2284\n",
            "Epoch 80/500\n",
            "23/23 [==============================] - 1s 28ms/step - loss: 0.0461 - MCRMSE: 0.2044 - val_loss: 0.0606 - val_MCRMSE: 0.2268\n",
            "Epoch 81/500\n",
            "23/23 [==============================] - 1s 28ms/step - loss: 0.0459 - MCRMSE: 0.2041 - val_loss: 0.0611 - val_MCRMSE: 0.2277\n",
            "Epoch 82/500\n",
            "23/23 [==============================] - 1s 28ms/step - loss: 0.0456 - MCRMSE: 0.2034 - val_loss: 0.0604 - val_MCRMSE: 0.2272\n",
            "Epoch 83/500\n",
            "23/23 [==============================] - 1s 28ms/step - loss: 0.0452 - MCRMSE: 0.2024 - val_loss: 0.0604 - val_MCRMSE: 0.2269\n",
            "Epoch 84/500\n",
            "23/23 [==============================] - 1s 28ms/step - loss: 0.0448 - MCRMSE: 0.2014 - val_loss: 0.0606 - val_MCRMSE: 0.2270\n",
            "Epoch 85/500\n",
            "23/23 [==============================] - 1s 29ms/step - loss: 0.0448 - MCRMSE: 0.2017 - val_loss: 0.0603 - val_MCRMSE: 0.2260\n",
            "Epoch 86/500\n",
            "23/23 [==============================] - 1s 29ms/step - loss: 0.0445 - MCRMSE: 0.2010 - val_loss: 0.0610 - val_MCRMSE: 0.2284\n",
            "Epoch 87/500\n",
            "23/23 [==============================] - 1s 29ms/step - loss: 0.0441 - MCRMSE: 0.2001 - val_loss: 0.0611 - val_MCRMSE: 0.2277\n",
            "Epoch 88/500\n",
            "23/23 [==============================] - 1s 28ms/step - loss: 0.0436 - MCRMSE: 0.1990 - val_loss: 0.0599 - val_MCRMSE: 0.2250\n",
            "Epoch 89/500\n",
            "23/23 [==============================] - 1s 28ms/step - loss: 0.0434 - MCRMSE: 0.1988 - val_loss: 0.0603 - val_MCRMSE: 0.2259\n",
            "Epoch 90/500\n",
            "23/23 [==============================] - 1s 29ms/step - loss: 0.0430 - MCRMSE: 0.1976 - val_loss: 0.0590 - val_MCRMSE: 0.2235\n",
            "Epoch 91/500\n",
            "23/23 [==============================] - 1s 29ms/step - loss: 0.0426 - MCRMSE: 0.1969 - val_loss: 0.0613 - val_MCRMSE: 0.2279\n",
            "Epoch 92/500\n",
            "23/23 [==============================] - 1s 28ms/step - loss: 0.0422 - MCRMSE: 0.1960 - val_loss: 0.0602 - val_MCRMSE: 0.2260\n",
            "Epoch 93/500\n",
            "23/23 [==============================] - 1s 28ms/step - loss: 0.0421 - MCRMSE: 0.1956 - val_loss: 0.0596 - val_MCRMSE: 0.2240\n",
            "Epoch 94/500\n",
            "23/23 [==============================] - 1s 28ms/step - loss: 0.0416 - MCRMSE: 0.1946 - val_loss: 0.0604 - val_MCRMSE: 0.2261\n",
            "Epoch 95/500\n",
            "23/23 [==============================] - 1s 29ms/step - loss: 0.0418 - MCRMSE: 0.1950 - val_loss: 0.0591 - val_MCRMSE: 0.2238\n",
            "Epoch 96/500\n",
            "23/23 [==============================] - 1s 28ms/step - loss: 0.0412 - MCRMSE: 0.1937 - val_loss: 0.0593 - val_MCRMSE: 0.2240\n",
            "Epoch 97/500\n",
            "23/23 [==============================] - 1s 29ms/step - loss: 0.0408 - MCRMSE: 0.1927 - val_loss: 0.0589 - val_MCRMSE: 0.2239\n",
            "Epoch 98/500\n",
            "23/23 [==============================] - 1s 29ms/step - loss: 0.0406 - MCRMSE: 0.1925 - val_loss: 0.0598 - val_MCRMSE: 0.2246\n",
            "Epoch 99/500\n",
            "23/23 [==============================] - 1s 29ms/step - loss: 0.0406 - MCRMSE: 0.1923 - val_loss: 0.0592 - val_MCRMSE: 0.2235\n",
            "Epoch 100/500\n",
            "23/23 [==============================] - 1s 28ms/step - loss: 0.0404 - MCRMSE: 0.1920 - val_loss: 0.0592 - val_MCRMSE: 0.2236\n",
            "Epoch 101/500\n",
            "23/23 [==============================] - 1s 28ms/step - loss: 0.0400 - MCRMSE: 0.1908 - val_loss: 0.0592 - val_MCRMSE: 0.2232\n",
            "Epoch 102/500\n",
            "23/23 [==============================] - 1s 28ms/step - loss: 0.0398 - MCRMSE: 0.1905 - val_loss: 0.0591 - val_MCRMSE: 0.2235\n",
            "Epoch 103/500\n",
            "23/23 [==============================] - 1s 28ms/step - loss: 0.0394 - MCRMSE: 0.1897 - val_loss: 0.0591 - val_MCRMSE: 0.2228\n",
            "Epoch 104/500\n",
            "23/23 [==============================] - 1s 28ms/step - loss: 0.0390 - MCRMSE: 0.1888 - val_loss: 0.0591 - val_MCRMSE: 0.2233\n",
            "Epoch 105/500\n",
            "23/23 [==============================] - 1s 28ms/step - loss: 0.0388 - MCRMSE: 0.1882 - val_loss: 0.0589 - val_MCRMSE: 0.2230\n",
            "Epoch 106/500\n",
            "23/23 [==============================] - 1s 29ms/step - loss: 0.0386 - MCRMSE: 0.1879 - val_loss: 0.0583 - val_MCRMSE: 0.2215\n",
            "Epoch 107/500\n",
            "23/23 [==============================] - 1s 29ms/step - loss: 0.0385 - MCRMSE: 0.1876 - val_loss: 0.0591 - val_MCRMSE: 0.2234\n",
            "Epoch 108/500\n",
            "23/23 [==============================] - 1s 28ms/step - loss: 0.0381 - MCRMSE: 0.1867 - val_loss: 0.0587 - val_MCRMSE: 0.2222\n",
            "Epoch 109/500\n",
            "23/23 [==============================] - 1s 29ms/step - loss: 0.0379 - MCRMSE: 0.1861 - val_loss: 0.0580 - val_MCRMSE: 0.2212\n",
            "Epoch 110/500\n",
            "23/23 [==============================] - 1s 28ms/step - loss: 0.0375 - MCRMSE: 0.1850 - val_loss: 0.0581 - val_MCRMSE: 0.2210\n",
            "Epoch 111/500\n",
            "23/23 [==============================] - 1s 29ms/step - loss: 0.0373 - MCRMSE: 0.1848 - val_loss: 0.0587 - val_MCRMSE: 0.2223\n",
            "Epoch 112/500\n",
            "23/23 [==============================] - 1s 29ms/step - loss: 0.0371 - MCRMSE: 0.1842 - val_loss: 0.0585 - val_MCRMSE: 0.2215\n",
            "Epoch 113/500\n",
            "23/23 [==============================] - 1s 28ms/step - loss: 0.0373 - MCRMSE: 0.1849 - val_loss: 0.0583 - val_MCRMSE: 0.2215\n",
            "Epoch 114/500\n",
            "23/23 [==============================] - 1s 29ms/step - loss: 0.0370 - MCRMSE: 0.1841 - val_loss: 0.0586 - val_MCRMSE: 0.2221\n",
            "Epoch 115/500\n",
            "23/23 [==============================] - 1s 29ms/step - loss: 0.0369 - MCRMSE: 0.1839 - val_loss: 0.0579 - val_MCRMSE: 0.2205\n",
            "Epoch 116/500\n",
            "23/23 [==============================] - 1s 29ms/step - loss: 0.0366 - MCRMSE: 0.1831 - val_loss: 0.0595 - val_MCRMSE: 0.2237\n",
            "Epoch 117/500\n",
            "23/23 [==============================] - 1s 28ms/step - loss: 0.0362 - MCRMSE: 0.1822 - val_loss: 0.0582 - val_MCRMSE: 0.2209\n",
            "Epoch 118/500\n",
            "23/23 [==============================] - 1s 29ms/step - loss: 0.0361 - MCRMSE: 0.1820 - val_loss: 0.0594 - val_MCRMSE: 0.2236\n",
            "Epoch 119/500\n",
            "23/23 [==============================] - 1s 28ms/step - loss: 0.0360 - MCRMSE: 0.1816 - val_loss: 0.0587 - val_MCRMSE: 0.2221\n",
            "Epoch 120/500\n",
            "23/23 [==============================] - 1s 28ms/step - loss: 0.0358 - MCRMSE: 0.1813 - val_loss: 0.0591 - val_MCRMSE: 0.2226\n",
            "Epoch 121/500\n",
            "23/23 [==============================] - 1s 29ms/step - loss: 0.0355 - MCRMSE: 0.1805 - val_loss: 0.0582 - val_MCRMSE: 0.2208\n",
            "Epoch 122/500\n",
            "23/23 [==============================] - 1s 29ms/step - loss: 0.0354 - MCRMSE: 0.1804 - val_loss: 0.0587 - val_MCRMSE: 0.2216\n",
            "Epoch 123/500\n",
            "23/23 [==============================] - 1s 29ms/step - loss: 0.0353 - MCRMSE: 0.1801 - val_loss: 0.0593 - val_MCRMSE: 0.2232\n",
            "Epoch 124/500\n",
            "23/23 [==============================] - 1s 28ms/step - loss: 0.0351 - MCRMSE: 0.1794 - val_loss: 0.0590 - val_MCRMSE: 0.2227\n",
            "Epoch 125/500\n",
            "23/23 [==============================] - 1s 29ms/step - loss: 0.0348 - MCRMSE: 0.1788 - val_loss: 0.0575 - val_MCRMSE: 0.2193\n",
            "Epoch 126/500\n",
            "23/23 [==============================] - 1s 29ms/step - loss: 0.0345 - MCRMSE: 0.1780 - val_loss: 0.0584 - val_MCRMSE: 0.2216\n",
            "Epoch 127/500\n",
            "23/23 [==============================] - 1s 29ms/step - loss: 0.0343 - MCRMSE: 0.1777 - val_loss: 0.0576 - val_MCRMSE: 0.2194\n",
            "Epoch 128/500\n",
            "23/23 [==============================] - 1s 28ms/step - loss: 0.0343 - MCRMSE: 0.1777 - val_loss: 0.0585 - val_MCRMSE: 0.2214\n",
            "Epoch 129/500\n",
            "23/23 [==============================] - 1s 29ms/step - loss: 0.0341 - MCRMSE: 0.1771 - val_loss: 0.0584 - val_MCRMSE: 0.2217\n",
            "Epoch 130/500\n",
            "23/23 [==============================] - 1s 28ms/step - loss: 0.0339 - MCRMSE: 0.1767 - val_loss: 0.0577 - val_MCRMSE: 0.2194\n",
            "Epoch 131/500\n",
            "23/23 [==============================] - 1s 29ms/step - loss: 0.0338 - MCRMSE: 0.1765 - val_loss: 0.0584 - val_MCRMSE: 0.2210\n",
            "Epoch 132/500\n",
            "23/23 [==============================] - 1s 29ms/step - loss: 0.0333 - MCRMSE: 0.1753 - val_loss: 0.0582 - val_MCRMSE: 0.2208\n",
            "Epoch 133/500\n",
            "23/23 [==============================] - 1s 28ms/step - loss: 0.0334 - MCRMSE: 0.1754 - val_loss: 0.0578 - val_MCRMSE: 0.2197\n",
            "Epoch 134/500\n",
            "23/23 [==============================] - 1s 28ms/step - loss: 0.0333 - MCRMSE: 0.1751 - val_loss: 0.0580 - val_MCRMSE: 0.2201\n",
            "Epoch 135/500\n",
            "23/23 [==============================] - 1s 28ms/step - loss: 0.0332 - MCRMSE: 0.1749 - val_loss: 0.0581 - val_MCRMSE: 0.2206\n"
          ],
          "name": "stdout"
        }
      ]
    },
    {
      "cell_type": "markdown",
      "metadata": {
        "id": "DfUEMadfvv6_"
      },
      "source": [
        "## Test this models with test data"
      ]
    },
    {
      "cell_type": "markdown",
      "metadata": {
        "id": "Goi5gb9ev_1H"
      },
      "source": [
        "### X test one-hot encoding"
      ]
    },
    {
      "cell_type": "code",
      "metadata": {
        "id": "3NZaplTBv0KO"
      },
      "source": [
        "X_test107 = test_data.query(\"seq_length == 107\")\n",
        "X_test130 = test_data.query(\"seq_length == 130\")"
      ],
      "execution_count": null,
      "outputs": []
    },
    {
      "cell_type": "markdown",
      "metadata": {
        "id": "KSUGLOcuwMyi"
      },
      "source": [
        "#### Public dataset (107 bp)"
      ]
    },
    {
      "cell_type": "code",
      "metadata": {
        "id": "0L4cm2jzv0P_"
      },
      "source": [
        "arn2int = {x:i for i, x in enumerate(\"ACGU\")}\n",
        "X_test107_seq = X_test107[\"sequence\"].apply(lambda seq: [arn2int[x] for x in seq])\n",
        "X_test107_seq = np.array(X_test107_seq.tolist())\n",
        "X_test107_seq = to_categorical(X_test107_seq, 4)\n",
        "\n",
        "struct2int = {x:i for i, x in enumerate(\".()\")}\n",
        "X_test107_struct = X_test107[\"structure\"].apply(lambda seq: [struct2int[x] for x in seq])\n",
        "X_test107_struct = np.array(X_test107_struct.values.tolist())\n",
        "X_test107_struct = to_categorical(X_test107_struct, 3)\n",
        "\n",
        "loop2int = {x:i for i, x in enumerate(\"BEHIMSX\")}\n",
        "X_test107_loop = X_test107[\"predicted_loop_type\"].apply(lambda seq: [loop2int[x] for x in seq])\n",
        "X_test107_loop = np.array(X_test107_loop.values.tolist())\n",
        "X_test107_loop = to_categorical(X_test107_loop, 7)\n",
        "\n",
        "X_test107_all = np.concatenate((X_test107_seq, X_test107_struct, X_test107_loop), axis=2)"
      ],
      "execution_count": null,
      "outputs": []
    },
    {
      "cell_type": "markdown",
      "metadata": {
        "id": "Ti67J9HDwUsK"
      },
      "source": [
        "#### Private dataset (130 bp)"
      ]
    },
    {
      "cell_type": "code",
      "metadata": {
        "id": "Xqp6U1u0v0S6"
      },
      "source": [
        "arn2int = {x:i for i, x in enumerate(\"ACGU\")}\n",
        "X_test130_seq = X_test130[\"sequence\"].apply(lambda seq: [arn2int[x] for x in seq])\n",
        "X_test130_seq = np.array(X_test130_seq.tolist())\n",
        "X_test130_seq = to_categorical(X_test130_seq, 4)\n",
        "\n",
        "struct2int = {x:i for i, x in enumerate(\".()\")}\n",
        "X_test130_struct = X_test130[\"structure\"].apply(lambda seq: [struct2int[x] for x in seq])\n",
        "X_test130_struct = np.array(X_test130_struct.values.tolist())\n",
        "X_test130_struct = to_categorical(X_test130_struct, 3)\n",
        "\n",
        "loop2int = {x:i for i, x in enumerate(\"BEHIMSX\")}\n",
        "X_test130_loop = X_test130[\"predicted_loop_type\"].apply(lambda seq: [loop2int[x] for x in seq])\n",
        "X_test130_loop = np.array(X_test130_loop.values.tolist())\n",
        "X_test130_loop = to_categorical(X_test130_loop, 7)\n",
        "\n",
        "X_test130_all = np.concatenate((X_test130_seq, X_test130_struct, X_test130_loop), axis=2)"
      ],
      "execution_count": null,
      "outputs": []
    },
    {
      "cell_type": "markdown",
      "metadata": {
        "id": "Cq32UCbtwn3a"
      },
      "source": [
        "### Transfer the weights of the model into new ones for predictions"
      ]
    },
    {
      "cell_type": "markdown",
      "metadata": {
        "id": "idPzt8dyxhKm"
      },
      "source": [
        "#### Public data (107 bp)"
      ]
    },
    {
      "cell_type": "code",
      "metadata": {
        "id": "WluBQO5Iv0Nt",
        "colab": {
          "base_uri": "https://localhost:8080/",
          "height": 366
        },
        "outputId": "d8597e6b-39b5-46fb-8404-c15beb8bca03"
      },
      "source": [
        "model107 = Sequential()\n",
        "\n",
        "model107.add(Conv1D(filters=64, kernel_size=3, input_shape = (107, 14), padding=\"same\", activation = \"relu\"))\n",
        "model107.add(tf.keras.layers.Bidirectional(tf.keras.layers.GRU(128, dropout=0.2, return_sequences=True)))\n",
        "model107.add(tf.keras.layers.Bidirectional(tf.keras.layers.GRU(128, dropout=0.2, return_sequences=True)))\n",
        "model107.add(tf.keras.layers.Bidirectional(tf.keras.layers.GRU(128, dropout=0.2, return_sequences=True)))\n",
        "model107.add(Dense(5, activation=\"linear\"))\n",
        "\n",
        "model107.compile(loss = \"mse\",\n",
        "              optimizer=\"adam\",\n",
        "              metrics = [MCRMSE])\n",
        "\n",
        "print(model107.summary())"
      ],
      "execution_count": null,
      "outputs": [
        {
          "output_type": "stream",
          "text": [
            "Model: \"sequential_42\"\n",
            "_________________________________________________________________\n",
            "Layer (type)                 Output Shape              Param #   \n",
            "=================================================================\n",
            "conv1d_42 (Conv1D)           (None, 107, 64)           2752      \n",
            "_________________________________________________________________\n",
            "bidirectional_66 (Bidirectio (None, 107, 256)          148992    \n",
            "_________________________________________________________________\n",
            "bidirectional_67 (Bidirectio (None, 107, 256)          296448    \n",
            "_________________________________________________________________\n",
            "bidirectional_68 (Bidirectio (None, 107, 256)          296448    \n",
            "_________________________________________________________________\n",
            "dense_102 (Dense)            (None, 107, 5)            1285      \n",
            "=================================================================\n",
            "Total params: 745,925\n",
            "Trainable params: 745,925\n",
            "Non-trainable params: 0\n",
            "_________________________________________________________________\n",
            "None\n"
          ],
          "name": "stdout"
        }
      ]
    },
    {
      "cell_type": "code",
      "metadata": {
        "id": "KSP3OK_Ew0s9"
      },
      "source": [
        "model107.set_weights(model4.get_weights())"
      ],
      "execution_count": null,
      "outputs": []
    },
    {
      "cell_type": "code",
      "metadata": {
        "id": "h3ZYtyy_w0yk"
      },
      "source": [
        "Y_pred107 = model107.predict(X_test107_all)"
      ],
      "execution_count": null,
      "outputs": []
    },
    {
      "cell_type": "markdown",
      "metadata": {
        "id": "cGbuN8RAxoNx"
      },
      "source": [
        "#### Private data (130 bp)"
      ]
    },
    {
      "cell_type": "code",
      "metadata": {
        "id": "kcGvoBuLw0wn",
        "colab": {
          "base_uri": "https://localhost:8080/",
          "height": 366
        },
        "outputId": "d04c4d5b-acfc-4255-d452-f6311153d6da"
      },
      "source": [
        "model130 = Sequential()\n",
        "\n",
        "model130.add(Conv1D(filters=64, kernel_size=3, input_shape = (130, 14), padding=\"same\", activation = \"relu\"))\n",
        "model130.add(tf.keras.layers.Bidirectional(tf.keras.layers.GRU(128, dropout=0.2, return_sequences=True)))\n",
        "model130.add(tf.keras.layers.Bidirectional(tf.keras.layers.GRU(128, dropout=0.2, return_sequences=True)))\n",
        "model130.add(tf.keras.layers.Bidirectional(tf.keras.layers.GRU(128, dropout=0.2, return_sequences=True)))\n",
        "model130.add(Dense(5, activation=\"linear\"))\n",
        "\n",
        "model130.compile(loss = \"mse\",\n",
        "              optimizer=\"adam\",\n",
        "              metrics = [MCRMSE])\n",
        "\n",
        "print(model130.summary())"
      ],
      "execution_count": null,
      "outputs": [
        {
          "output_type": "stream",
          "text": [
            "Model: \"sequential_43\"\n",
            "_________________________________________________________________\n",
            "Layer (type)                 Output Shape              Param #   \n",
            "=================================================================\n",
            "conv1d_43 (Conv1D)           (None, 130, 64)           2752      \n",
            "_________________________________________________________________\n",
            "bidirectional_69 (Bidirectio (None, 130, 256)          148992    \n",
            "_________________________________________________________________\n",
            "bidirectional_70 (Bidirectio (None, 130, 256)          296448    \n",
            "_________________________________________________________________\n",
            "bidirectional_71 (Bidirectio (None, 130, 256)          296448    \n",
            "_________________________________________________________________\n",
            "dense_103 (Dense)            (None, 130, 5)            1285      \n",
            "=================================================================\n",
            "Total params: 745,925\n",
            "Trainable params: 745,925\n",
            "Non-trainable params: 0\n",
            "_________________________________________________________________\n",
            "None\n"
          ],
          "name": "stdout"
        }
      ]
    },
    {
      "cell_type": "code",
      "metadata": {
        "id": "kMSE0EPNxRPx"
      },
      "source": [
        "model130.set_weights(model4.get_weights())"
      ],
      "execution_count": null,
      "outputs": []
    },
    {
      "cell_type": "code",
      "metadata": {
        "id": "DzJIPIz2xRcu"
      },
      "source": [
        "Y_pred130 = model130.predict(X_test130_all)"
      ],
      "execution_count": null,
      "outputs": []
    },
    {
      "cell_type": "markdown",
      "metadata": {
        "id": "XvKVHCp5voAf"
      },
      "source": [
        "## Create CSV file for Kaggle submission"
      ]
    },
    {
      "cell_type": "code",
      "metadata": {
        "id": "qnR2b6KyrqZD",
        "colab": {
          "base_uri": "https://localhost:8080/",
          "height": 34
        },
        "outputId": "26d1cafd-c594-442e-8006-b1630e7644e2"
      },
      "source": [
        "pred_cols = [\"reactivity\", \"deg_Mg_pH10\", \"deg_pH10\", \"deg_Mg_50C\", \"deg_50C\"]\n",
        "\n",
        "preds_ls = []\n",
        "\n",
        "for df, preds in [(X_test107, Y_pred107), (X_test130, Y_pred130)]:\n",
        "    for i, uid in enumerate(df.id):\n",
        "        single_pred = preds[i]\n",
        "\n",
        "        single_df = pd.DataFrame(single_pred, columns=pred_cols)\n",
        "        single_df['id_seqpos'] = [f'{uid}_{x}' for x in range(single_df.shape[0])]\n",
        "\n",
        "        preds_ls.append(single_df)\n",
        "\n",
        "preds_df = pd.concat(preds_ls)\n",
        "\n",
        "submission = sample_df[['id_seqpos']].merge(preds_df, on=['id_seqpos'])\n",
        "submission.to_csv('submission.csv', index=False)\n",
        "\n",
        "files.download('submission.csv')"
      ],
      "execution_count": null,
      "outputs": [
        {
          "output_type": "display_data",
          "data": {
            "application/javascript": [
              "\n",
              "    async function download(id, filename, size) {\n",
              "      if (!google.colab.kernel.accessAllowed) {\n",
              "        return;\n",
              "      }\n",
              "      const div = document.createElement('div');\n",
              "      const label = document.createElement('label');\n",
              "      label.textContent = `Downloading \"${filename}\": `;\n",
              "      div.appendChild(label);\n",
              "      const progress = document.createElement('progress');\n",
              "      progress.max = size;\n",
              "      div.appendChild(progress);\n",
              "      document.body.appendChild(div);\n",
              "\n",
              "      const buffers = [];\n",
              "      let downloaded = 0;\n",
              "\n",
              "      const channel = await google.colab.kernel.comms.open(id);\n",
              "      // Send a message to notify the kernel that we're ready.\n",
              "      channel.send({})\n",
              "\n",
              "      for await (const message of channel.messages) {\n",
              "        // Send a message to notify the kernel that we're ready.\n",
              "        channel.send({})\n",
              "        if (message.buffers) {\n",
              "          for (const buffer of message.buffers) {\n",
              "            buffers.push(buffer);\n",
              "            downloaded += buffer.byteLength;\n",
              "            progress.value = downloaded;\n",
              "          }\n",
              "        }\n",
              "      }\n",
              "      const blob = new Blob(buffers, {type: 'application/binary'});\n",
              "      const a = document.createElement('a');\n",
              "      a.href = window.URL.createObjectURL(blob);\n",
              "      a.download = filename;\n",
              "      div.appendChild(a);\n",
              "      a.click();\n",
              "      div.remove();\n",
              "    }\n",
              "  "
            ],
            "text/plain": [
              "<IPython.core.display.Javascript object>"
            ]
          },
          "metadata": {
            "tags": []
          }
        },
        {
          "output_type": "display_data",
          "data": {
            "application/javascript": [
              "download(\"download_8f6444e4-97c1-4ae8-886f-a9c63b330230\", \"submission.csv\", 32125559)"
            ],
            "text/plain": [
              "<IPython.core.display.Javascript object>"
            ]
          },
          "metadata": {
            "tags": []
          }
        }
      ]
    }
  ]
}